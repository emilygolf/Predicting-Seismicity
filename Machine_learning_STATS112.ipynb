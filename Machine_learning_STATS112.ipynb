{
  "nbformat": 4,
  "nbformat_minor": 0,
  "metadata": {
    "colab": {
      "provenance": [],
      "authorship_tag": "ABX9TyMwa40oWqtpYjW6CUsGs+td",
      "include_colab_link": true
    },
    "kernelspec": {
      "name": "python3",
      "display_name": "Python 3"
    },
    "language_info": {
      "name": "python"
    }
  },
  "cells": [
    {
      "cell_type": "markdown",
      "metadata": {
        "id": "view-in-github",
        "colab_type": "text"
      },
      "source": [
        "<a href=\"https://colab.research.google.com/github/emilygolf/Predicting-Seismicity/blob/main/Machine_learning_STATS112.ipynb\" target=\"_parent\"><img src=\"https://colab.research.google.com/assets/colab-badge.svg\" alt=\"Open In Colab\"/></a>"
      ]
    },
    {
      "cell_type": "markdown",
      "source": [
        "# Final Project | Stats 112 | Emily Snell | Machine Learning\n",
        "\n",
        "---\n",
        "\n",
        "My goal is to use a machine learning model to predict the earthquakes associated with eruptions which occured in the past, beofre seismometers were invented. \n",
        "\n",
        "My training data is from modern eruptions and earthquakes in \"eq_erupt_df_clean\"\n",
        "\n",
        "My testing/predicting data is in \"historical_eruptions_df_clean\""
      ],
      "metadata": {
        "id": "PPBIL3G65H3s"
      }
    },
    {
      "cell_type": "markdown",
      "source": [
        "# Read in data!"
      ],
      "metadata": {
        "id": "KLPo3cTCaAmH"
      }
    },
    {
      "cell_type": "code",
      "execution_count": 1,
      "metadata": {
        "colab": {
          "base_uri": "https://localhost:8080/"
        },
        "id": "61y31bFf5EUj",
        "outputId": "2526e691-c815-4fe5-dd93-0ede3e66f1af"
      },
      "outputs": [
        {
          "output_type": "stream",
          "name": "stdout",
          "text": [
            "Cloning into 'Final-Project'...\n",
            "remote: Enumerating objects: 152, done.\u001b[K\n",
            "remote: Counting objects: 100% (73/73), done.\u001b[K\n",
            "remote: Compressing objects: 100% (56/56), done.\u001b[K\n",
            "remote: Total 152 (delta 22), reused 60 (delta 17), pack-reused 79\u001b[K\n",
            "Receiving objects: 100% (152/152), 9.53 MiB | 8.63 MiB/s, done.\n",
            "Resolving deltas: 100% (43/43), done.\n"
          ]
        }
      ],
      "source": [
        "#read in the data \n",
        "import requests\n",
        "import pandas as pd\n",
        "import os \n",
        "!git clone https://github.com/emilygolf/Final-Project.git"
      ]
    },
    {
      "cell_type": "code",
      "source": [
        "#move to the right folder to acess the data \n",
        "%cd /content/Final-Project/DataSci\\ Final\\ Project"
      ],
      "metadata": {
        "colab": {
          "base_uri": "https://localhost:8080/"
        },
        "id": "Nrlzwpax5YYq",
        "outputId": "3cf9dc8c-5236-43f6-cd52-1bdb11b84d41"
      },
      "execution_count": 2,
      "outputs": [
        {
          "output_type": "stream",
          "name": "stdout",
          "text": [
            "/content/Final-Project/DataSci Final Project\n"
          ]
        }
      ]
    },
    {
      "cell_type": "code",
      "source": [
        "eq_erupt_df = pd.read_csv('final.csv')\n",
        "eq_erupt_df"
      ],
      "metadata": {
        "id": "U7J_qTnY5aKH",
        "colab": {
          "base_uri": "https://localhost:8080/",
          "height": 627
        },
        "outputId": "7693d637-ed19-424c-f81c-4154d6817a35"
      },
      "execution_count": 3,
      "outputs": [
        {
          "output_type": "execute_result",
          "data": {
            "text/plain": [
              "       Unnamed: 0  level_0   index                      time  \\\n",
              "0               0      6.0   792.0  1994-06-06T20:47:40.530Z   \n",
              "1               1      7.0  4528.0  1995-10-11T22:44:38.970Z   \n",
              "2               2     19.0    31.0  2015-01-23T03:07:03.020Z   \n",
              "3               3     20.0    84.0  2014-12-23T22:23:48.060Z   \n",
              "4               4     21.0   128.0  2014-12-02T02:18:28.000Z   \n",
              "...           ...      ...     ...                       ...   \n",
              "16208       16208      NaN     NaN                       NaN   \n",
              "16209       16209      NaN     NaN                       NaN   \n",
              "16210       16210      NaN     NaN                       NaN   \n",
              "16211       16211      NaN     NaN                       NaN   \n",
              "16212       16212      NaN     NaN                       NaN   \n",
              "\n",
              "       latitude_earthquake  longitude_earthquake   depth  mag  \\\n",
              "0                   2.9170              -76.0570   12.10  6.8   \n",
              "1                  10.8510              -85.3160  161.80  4.3   \n",
              "2                  64.6538              -17.5206    6.63  4.6   \n",
              "3                  64.6315              -17.5050    6.65  4.5   \n",
              "4                  64.6660              -17.4870    2.50  5.3   \n",
              "...                    ...                   ...     ...  ...   \n",
              "16208                  NaN                   NaN     NaN  NaN   \n",
              "16209                  NaN                   NaN     NaN  NaN   \n",
              "16210                  NaN                   NaN     NaN  NaN   \n",
              "16211                  NaN                   NaN     NaN  NaN   \n",
              "16212                  NaN                   NaN     NaN  NaN   \n",
              "\n",
              "       horizontalError  depthError  magError      Date        Volcano Name  \\\n",
              "0                  NaN         NaN       NaN  10/26/08   Huila, Nevado del   \n",
              "1                  NaN         NaN       NaN   8/10/94  Rincon de la Vieja   \n",
              "2                  6.9         3.4     0.076   6/21/18         Bardarbunga   \n",
              "3                  3.0         4.7     0.085   8/29/14         Bardarbunga   \n",
              "4                  6.8         3.9       NaN   8/29/14         Bardarbunga   \n",
              "...                ...         ...       ...       ...                 ...   \n",
              "16208              NaN         NaN       NaN       NaN          St. Helens   \n",
              "16209              NaN         NaN       NaN       NaN          St. Helens   \n",
              "16210              NaN         NaN       NaN       NaN      Tair, Jebel at   \n",
              "16211              NaN         NaN       NaN       NaN        Zubair Group   \n",
              "16212              NaN         NaN       NaN       NaN        Zubair Group   \n",
              "\n",
              "          Country             Type Start Date  latitude_eruption  \\\n",
              "0        Colombia    Stratovolcano   10/26/08              2.930   \n",
              "1      Costa Rica  Complex volcano    8/10/94                NaN   \n",
              "2         Iceland    Stratovolcano    6/21/18                NaN   \n",
              "3         Iceland    Stratovolcano    8/29/14             64.633   \n",
              "4         Iceland    Stratovolcano    8/29/14             64.633   \n",
              "...           ...              ...        ...                ...   \n",
              "16208         NaN              NaN    10/1/04             46.200   \n",
              "16209         NaN              NaN    11/5/90             46.200   \n",
              "16210         NaN              NaN    9/30/07             15.550   \n",
              "16211         NaN              NaN    9/28/13             15.050   \n",
              "16212         NaN              NaN   12/18/11             15.050   \n",
              "\n",
              "       longitude_eruption  VEI  End Date  \n",
              "0                 -76.030  5.0   1/14/12  \n",
              "1                     NaN  NaN       NaN  \n",
              "2                     NaN  NaN       NaN  \n",
              "3                 -17.516  2.0   2/27/15  \n",
              "4                 -17.516  2.0   2/27/15  \n",
              "...                   ...  ...       ...  \n",
              "16208            -122.180  2.0   1/27/08  \n",
              "16209            -122.180  3.0   2/14/91  \n",
              "16210              41.830  3.0   6/16/08  \n",
              "16211              42.180  2.0  11/20/13  \n",
              "16212              42.180  2.0   1/12/12  \n",
              "\n",
              "[16213 rows x 20 columns]"
            ],
            "text/html": [
              "\n",
              "  <div id=\"df-599b9f7d-52a5-4aa6-b20c-4ba81ab8edd8\">\n",
              "    <div class=\"colab-df-container\">\n",
              "      <div>\n",
              "<style scoped>\n",
              "    .dataframe tbody tr th:only-of-type {\n",
              "        vertical-align: middle;\n",
              "    }\n",
              "\n",
              "    .dataframe tbody tr th {\n",
              "        vertical-align: top;\n",
              "    }\n",
              "\n",
              "    .dataframe thead th {\n",
              "        text-align: right;\n",
              "    }\n",
              "</style>\n",
              "<table border=\"1\" class=\"dataframe\">\n",
              "  <thead>\n",
              "    <tr style=\"text-align: right;\">\n",
              "      <th></th>\n",
              "      <th>Unnamed: 0</th>\n",
              "      <th>level_0</th>\n",
              "      <th>index</th>\n",
              "      <th>time</th>\n",
              "      <th>latitude_earthquake</th>\n",
              "      <th>longitude_earthquake</th>\n",
              "      <th>depth</th>\n",
              "      <th>mag</th>\n",
              "      <th>horizontalError</th>\n",
              "      <th>depthError</th>\n",
              "      <th>magError</th>\n",
              "      <th>Date</th>\n",
              "      <th>Volcano Name</th>\n",
              "      <th>Country</th>\n",
              "      <th>Type</th>\n",
              "      <th>Start Date</th>\n",
              "      <th>latitude_eruption</th>\n",
              "      <th>longitude_eruption</th>\n",
              "      <th>VEI</th>\n",
              "      <th>End Date</th>\n",
              "    </tr>\n",
              "  </thead>\n",
              "  <tbody>\n",
              "    <tr>\n",
              "      <th>0</th>\n",
              "      <td>0</td>\n",
              "      <td>6.0</td>\n",
              "      <td>792.0</td>\n",
              "      <td>1994-06-06T20:47:40.530Z</td>\n",
              "      <td>2.9170</td>\n",
              "      <td>-76.0570</td>\n",
              "      <td>12.10</td>\n",
              "      <td>6.8</td>\n",
              "      <td>NaN</td>\n",
              "      <td>NaN</td>\n",
              "      <td>NaN</td>\n",
              "      <td>10/26/08</td>\n",
              "      <td>Huila, Nevado del</td>\n",
              "      <td>Colombia</td>\n",
              "      <td>Stratovolcano</td>\n",
              "      <td>10/26/08</td>\n",
              "      <td>2.930</td>\n",
              "      <td>-76.030</td>\n",
              "      <td>5.0</td>\n",
              "      <td>1/14/12</td>\n",
              "    </tr>\n",
              "    <tr>\n",
              "      <th>1</th>\n",
              "      <td>1</td>\n",
              "      <td>7.0</td>\n",
              "      <td>4528.0</td>\n",
              "      <td>1995-10-11T22:44:38.970Z</td>\n",
              "      <td>10.8510</td>\n",
              "      <td>-85.3160</td>\n",
              "      <td>161.80</td>\n",
              "      <td>4.3</td>\n",
              "      <td>NaN</td>\n",
              "      <td>NaN</td>\n",
              "      <td>NaN</td>\n",
              "      <td>8/10/94</td>\n",
              "      <td>Rincon de la Vieja</td>\n",
              "      <td>Costa Rica</td>\n",
              "      <td>Complex volcano</td>\n",
              "      <td>8/10/94</td>\n",
              "      <td>NaN</td>\n",
              "      <td>NaN</td>\n",
              "      <td>NaN</td>\n",
              "      <td>NaN</td>\n",
              "    </tr>\n",
              "    <tr>\n",
              "      <th>2</th>\n",
              "      <td>2</td>\n",
              "      <td>19.0</td>\n",
              "      <td>31.0</td>\n",
              "      <td>2015-01-23T03:07:03.020Z</td>\n",
              "      <td>64.6538</td>\n",
              "      <td>-17.5206</td>\n",
              "      <td>6.63</td>\n",
              "      <td>4.6</td>\n",
              "      <td>6.9</td>\n",
              "      <td>3.4</td>\n",
              "      <td>0.076</td>\n",
              "      <td>6/21/18</td>\n",
              "      <td>Bardarbunga</td>\n",
              "      <td>Iceland</td>\n",
              "      <td>Stratovolcano</td>\n",
              "      <td>6/21/18</td>\n",
              "      <td>NaN</td>\n",
              "      <td>NaN</td>\n",
              "      <td>NaN</td>\n",
              "      <td>NaN</td>\n",
              "    </tr>\n",
              "    <tr>\n",
              "      <th>3</th>\n",
              "      <td>3</td>\n",
              "      <td>20.0</td>\n",
              "      <td>84.0</td>\n",
              "      <td>2014-12-23T22:23:48.060Z</td>\n",
              "      <td>64.6315</td>\n",
              "      <td>-17.5050</td>\n",
              "      <td>6.65</td>\n",
              "      <td>4.5</td>\n",
              "      <td>3.0</td>\n",
              "      <td>4.7</td>\n",
              "      <td>0.085</td>\n",
              "      <td>8/29/14</td>\n",
              "      <td>Bardarbunga</td>\n",
              "      <td>Iceland</td>\n",
              "      <td>Stratovolcano</td>\n",
              "      <td>8/29/14</td>\n",
              "      <td>64.633</td>\n",
              "      <td>-17.516</td>\n",
              "      <td>2.0</td>\n",
              "      <td>2/27/15</td>\n",
              "    </tr>\n",
              "    <tr>\n",
              "      <th>4</th>\n",
              "      <td>4</td>\n",
              "      <td>21.0</td>\n",
              "      <td>128.0</td>\n",
              "      <td>2014-12-02T02:18:28.000Z</td>\n",
              "      <td>64.6660</td>\n",
              "      <td>-17.4870</td>\n",
              "      <td>2.50</td>\n",
              "      <td>5.3</td>\n",
              "      <td>6.8</td>\n",
              "      <td>3.9</td>\n",
              "      <td>NaN</td>\n",
              "      <td>8/29/14</td>\n",
              "      <td>Bardarbunga</td>\n",
              "      <td>Iceland</td>\n",
              "      <td>Stratovolcano</td>\n",
              "      <td>8/29/14</td>\n",
              "      <td>64.633</td>\n",
              "      <td>-17.516</td>\n",
              "      <td>2.0</td>\n",
              "      <td>2/27/15</td>\n",
              "    </tr>\n",
              "    <tr>\n",
              "      <th>...</th>\n",
              "      <td>...</td>\n",
              "      <td>...</td>\n",
              "      <td>...</td>\n",
              "      <td>...</td>\n",
              "      <td>...</td>\n",
              "      <td>...</td>\n",
              "      <td>...</td>\n",
              "      <td>...</td>\n",
              "      <td>...</td>\n",
              "      <td>...</td>\n",
              "      <td>...</td>\n",
              "      <td>...</td>\n",
              "      <td>...</td>\n",
              "      <td>...</td>\n",
              "      <td>...</td>\n",
              "      <td>...</td>\n",
              "      <td>...</td>\n",
              "      <td>...</td>\n",
              "      <td>...</td>\n",
              "      <td>...</td>\n",
              "    </tr>\n",
              "    <tr>\n",
              "      <th>16208</th>\n",
              "      <td>16208</td>\n",
              "      <td>NaN</td>\n",
              "      <td>NaN</td>\n",
              "      <td>NaN</td>\n",
              "      <td>NaN</td>\n",
              "      <td>NaN</td>\n",
              "      <td>NaN</td>\n",
              "      <td>NaN</td>\n",
              "      <td>NaN</td>\n",
              "      <td>NaN</td>\n",
              "      <td>NaN</td>\n",
              "      <td>NaN</td>\n",
              "      <td>St. Helens</td>\n",
              "      <td>NaN</td>\n",
              "      <td>NaN</td>\n",
              "      <td>10/1/04</td>\n",
              "      <td>46.200</td>\n",
              "      <td>-122.180</td>\n",
              "      <td>2.0</td>\n",
              "      <td>1/27/08</td>\n",
              "    </tr>\n",
              "    <tr>\n",
              "      <th>16209</th>\n",
              "      <td>16209</td>\n",
              "      <td>NaN</td>\n",
              "      <td>NaN</td>\n",
              "      <td>NaN</td>\n",
              "      <td>NaN</td>\n",
              "      <td>NaN</td>\n",
              "      <td>NaN</td>\n",
              "      <td>NaN</td>\n",
              "      <td>NaN</td>\n",
              "      <td>NaN</td>\n",
              "      <td>NaN</td>\n",
              "      <td>NaN</td>\n",
              "      <td>St. Helens</td>\n",
              "      <td>NaN</td>\n",
              "      <td>NaN</td>\n",
              "      <td>11/5/90</td>\n",
              "      <td>46.200</td>\n",
              "      <td>-122.180</td>\n",
              "      <td>3.0</td>\n",
              "      <td>2/14/91</td>\n",
              "    </tr>\n",
              "    <tr>\n",
              "      <th>16210</th>\n",
              "      <td>16210</td>\n",
              "      <td>NaN</td>\n",
              "      <td>NaN</td>\n",
              "      <td>NaN</td>\n",
              "      <td>NaN</td>\n",
              "      <td>NaN</td>\n",
              "      <td>NaN</td>\n",
              "      <td>NaN</td>\n",
              "      <td>NaN</td>\n",
              "      <td>NaN</td>\n",
              "      <td>NaN</td>\n",
              "      <td>NaN</td>\n",
              "      <td>Tair, Jebel at</td>\n",
              "      <td>NaN</td>\n",
              "      <td>NaN</td>\n",
              "      <td>9/30/07</td>\n",
              "      <td>15.550</td>\n",
              "      <td>41.830</td>\n",
              "      <td>3.0</td>\n",
              "      <td>6/16/08</td>\n",
              "    </tr>\n",
              "    <tr>\n",
              "      <th>16211</th>\n",
              "      <td>16211</td>\n",
              "      <td>NaN</td>\n",
              "      <td>NaN</td>\n",
              "      <td>NaN</td>\n",
              "      <td>NaN</td>\n",
              "      <td>NaN</td>\n",
              "      <td>NaN</td>\n",
              "      <td>NaN</td>\n",
              "      <td>NaN</td>\n",
              "      <td>NaN</td>\n",
              "      <td>NaN</td>\n",
              "      <td>NaN</td>\n",
              "      <td>Zubair Group</td>\n",
              "      <td>NaN</td>\n",
              "      <td>NaN</td>\n",
              "      <td>9/28/13</td>\n",
              "      <td>15.050</td>\n",
              "      <td>42.180</td>\n",
              "      <td>2.0</td>\n",
              "      <td>11/20/13</td>\n",
              "    </tr>\n",
              "    <tr>\n",
              "      <th>16212</th>\n",
              "      <td>16212</td>\n",
              "      <td>NaN</td>\n",
              "      <td>NaN</td>\n",
              "      <td>NaN</td>\n",
              "      <td>NaN</td>\n",
              "      <td>NaN</td>\n",
              "      <td>NaN</td>\n",
              "      <td>NaN</td>\n",
              "      <td>NaN</td>\n",
              "      <td>NaN</td>\n",
              "      <td>NaN</td>\n",
              "      <td>NaN</td>\n",
              "      <td>Zubair Group</td>\n",
              "      <td>NaN</td>\n",
              "      <td>NaN</td>\n",
              "      <td>12/18/11</td>\n",
              "      <td>15.050</td>\n",
              "      <td>42.180</td>\n",
              "      <td>2.0</td>\n",
              "      <td>1/12/12</td>\n",
              "    </tr>\n",
              "  </tbody>\n",
              "</table>\n",
              "<p>16213 rows × 20 columns</p>\n",
              "</div>\n",
              "      <button class=\"colab-df-convert\" onclick=\"convertToInteractive('df-599b9f7d-52a5-4aa6-b20c-4ba81ab8edd8')\"\n",
              "              title=\"Convert this dataframe to an interactive table.\"\n",
              "              style=\"display:none;\">\n",
              "        \n",
              "  <svg xmlns=\"http://www.w3.org/2000/svg\" height=\"24px\"viewBox=\"0 0 24 24\"\n",
              "       width=\"24px\">\n",
              "    <path d=\"M0 0h24v24H0V0z\" fill=\"none\"/>\n",
              "    <path d=\"M18.56 5.44l.94 2.06.94-2.06 2.06-.94-2.06-.94-.94-2.06-.94 2.06-2.06.94zm-11 1L8.5 8.5l.94-2.06 2.06-.94-2.06-.94L8.5 2.5l-.94 2.06-2.06.94zm10 10l.94 2.06.94-2.06 2.06-.94-2.06-.94-.94-2.06-.94 2.06-2.06.94z\"/><path d=\"M17.41 7.96l-1.37-1.37c-.4-.4-.92-.59-1.43-.59-.52 0-1.04.2-1.43.59L10.3 9.45l-7.72 7.72c-.78.78-.78 2.05 0 2.83L4 21.41c.39.39.9.59 1.41.59.51 0 1.02-.2 1.41-.59l7.78-7.78 2.81-2.81c.8-.78.8-2.07 0-2.86zM5.41 20L4 18.59l7.72-7.72 1.47 1.35L5.41 20z\"/>\n",
              "  </svg>\n",
              "      </button>\n",
              "      \n",
              "  <style>\n",
              "    .colab-df-container {\n",
              "      display:flex;\n",
              "      flex-wrap:wrap;\n",
              "      gap: 12px;\n",
              "    }\n",
              "\n",
              "    .colab-df-convert {\n",
              "      background-color: #E8F0FE;\n",
              "      border: none;\n",
              "      border-radius: 50%;\n",
              "      cursor: pointer;\n",
              "      display: none;\n",
              "      fill: #1967D2;\n",
              "      height: 32px;\n",
              "      padding: 0 0 0 0;\n",
              "      width: 32px;\n",
              "    }\n",
              "\n",
              "    .colab-df-convert:hover {\n",
              "      background-color: #E2EBFA;\n",
              "      box-shadow: 0px 1px 2px rgba(60, 64, 67, 0.3), 0px 1px 3px 1px rgba(60, 64, 67, 0.15);\n",
              "      fill: #174EA6;\n",
              "    }\n",
              "\n",
              "    [theme=dark] .colab-df-convert {\n",
              "      background-color: #3B4455;\n",
              "      fill: #D2E3FC;\n",
              "    }\n",
              "\n",
              "    [theme=dark] .colab-df-convert:hover {\n",
              "      background-color: #434B5C;\n",
              "      box-shadow: 0px 1px 3px 1px rgba(0, 0, 0, 0.15);\n",
              "      filter: drop-shadow(0px 1px 2px rgba(0, 0, 0, 0.3));\n",
              "      fill: #FFFFFF;\n",
              "    }\n",
              "  </style>\n",
              "\n",
              "      <script>\n",
              "        const buttonEl =\n",
              "          document.querySelector('#df-599b9f7d-52a5-4aa6-b20c-4ba81ab8edd8 button.colab-df-convert');\n",
              "        buttonEl.style.display =\n",
              "          google.colab.kernel.accessAllowed ? 'block' : 'none';\n",
              "\n",
              "        async function convertToInteractive(key) {\n",
              "          const element = document.querySelector('#df-599b9f7d-52a5-4aa6-b20c-4ba81ab8edd8');\n",
              "          const dataTable =\n",
              "            await google.colab.kernel.invokeFunction('convertToInteractive',\n",
              "                                                     [key], {});\n",
              "          if (!dataTable) return;\n",
              "\n",
              "          const docLinkHtml = 'Like what you see? Visit the ' +\n",
              "            '<a target=\"_blank\" href=https://colab.research.google.com/notebooks/data_table.ipynb>data table notebook</a>'\n",
              "            + ' to learn more about interactive tables.';\n",
              "          element.innerHTML = '';\n",
              "          dataTable['output_type'] = 'display_data';\n",
              "          await google.colab.output.renderOutput(dataTable, element);\n",
              "          const docLink = document.createElement('div');\n",
              "          docLink.innerHTML = docLinkHtml;\n",
              "          element.appendChild(docLink);\n",
              "        }\n",
              "      </script>\n",
              "    </div>\n",
              "  </div>\n",
              "  "
            ]
          },
          "metadata": {},
          "execution_count": 3
        }
      ]
    },
    {
      "cell_type": "code",
      "source": [
        "eq_erupt_df_clean = eq_erupt_df[['depth', 'mag', 'Volcano Name', 'Country', 'Type', 'VEI']]"
      ],
      "metadata": {
        "id": "11QZYURVYyh8"
      },
      "execution_count": 4,
      "outputs": []
    },
    {
      "cell_type": "code",
      "source": [
        "#historical eruptions\n",
        "historical_eruptions_df = pd.read_csv('historical_eruptions.csv')\n",
        "historical_eruptions_df"
      ],
      "metadata": {
        "id": "hpJ3d0Xq5b2r",
        "colab": {
          "base_uri": "https://localhost:8080/",
          "height": 771
        },
        "outputId": "dcb4ff72-f01d-4ac2-ea5c-52f7b1733ef8"
      },
      "execution_count": 5,
      "outputs": [
        {
          "output_type": "execute_result",
          "data": {
            "text/plain": [
              "    Unnamed: 0            Name            Date  VEI            Type_x  \\\n",
              "0            0       Aniakchak           1450C    5           Caldera   \n",
              "1            1           Kuwae            1452    6           Caldera   \n",
              "2            2     Bardarbunga            1477    5     Stratovolcano   \n",
              "3            3      St. Helens           1480D    5     Stratovolcano   \n",
              "4            4      St. Helens            1540    5     Stratovolcano   \n",
              "5            5      St. Helens       18-May-80    5     Stratovolcano   \n",
              "6            6  Billy Mitchell           1580C    6        Ash shield   \n",
              "7            7           Raung            1593    5     Stratovolcano   \n",
              "8            8    Huaynaputina            1600    6  Explosion crater   \n",
              "9            9          Parker    Jan. 4, 1641    6     Stratovolcano   \n",
              "10          10     Long Island            1660    6   Complex volcano   \n",
              "11          11       Gamkonora            1673    5     Stratovolcano   \n",
              "12          12           Katla   Oct. 17, 1755    5        Subglacial   \n",
              "13          13         Tambora   April 5, 1815    7     Stratovolcano   \n",
              "14          14      Galunggung    Oct. 8, 1822    5     Stratovolcano   \n",
              "15          15       Cosiguina   June 20, 1835    5     Stratovolcano   \n",
              "16          16       Sheveluch   Feb. 17, 1854    5     Stratovolcano   \n",
              "17          17           Askja  March 29, 1875    5     Stratovolcano   \n",
              "18          18        Krakatau   Aug. 26, 1883    6           Caldera   \n",
              "19          19     Santa Maria  Oct., 24, 1902    6     Stratovolcano   \n",
              "20          20         Ksudach  March 28, 1907    5            Shield   \n",
              "21          21          Katmai    June 6, 1911    6     Stratovolcano   \n",
              "22          22      Bezymianny  March 30, 1956    5     Stratovolcano   \n",
              "\n",
              "      Volcano Name           Country              Location  Latitude  \\\n",
              "0        Aniakchak     United States      Alaska Peninsula    56.880   \n",
              "1            Kuwae           Vanuatu    Vanuatu-SW Pacific   -16.829   \n",
              "2      Bardarbunga           Iceland            Iceland-NE    64.633   \n",
              "3       St. Helens     United States         US-Washington    46.200   \n",
              "4       St. Helens     United States         US-Washington    46.200   \n",
              "5       St. Helens     United States         US-Washington    46.200   \n",
              "6   Billy Mitchell  Papua New Guinea  Bougainville-SW Paci    -6.092   \n",
              "7            Raung         Indonesia                  Java    -8.119   \n",
              "8     Huaynaputina              Peru                  Peru   -16.608   \n",
              "9           Parker       Philippines  Mindanao-Philippines     6.113   \n",
              "10     Long Island  Papua New Guinea      New Guinea-NE of    -5.358   \n",
              "11       Gamkonora         Indonesia   Halmahera-Indonesia     1.380   \n",
              "12           Katla           Iceland             Iceland-S    63.633   \n",
              "13         Tambora         Indonesia       Lesser Sunda Is    -8.250   \n",
              "14      Galunggung         Indonesia                  Java    -7.250   \n",
              "15       Cosiguina         Nicaragua             Nicaragua    12.980   \n",
              "16       Sheveluch            Russia             Kamchatka    56.653   \n",
              "17           Askja           Iceland            Iceland-NE    65.033   \n",
              "18        Krakatau         Indonesia             Indonesia    -6.102   \n",
              "19     Santa Maria         Guatemala             Guatemala    14.757   \n",
              "20         Ksudach            Russia             Kamchatka    51.844   \n",
              "21          Katmai     United States      Alaska Peninsula    58.280   \n",
              "22      Bezymianny            Russia             Kamchatka    55.972   \n",
              "\n",
              "    Longitude              Type_y  \n",
              "0    -158.170             Caldera  \n",
              "1     168.536             Caldera  \n",
              "2     -17.516       Stratovolcano  \n",
              "3    -122.180       Stratovolcano  \n",
              "4    -122.180       Stratovolcano  \n",
              "5    -122.180       Stratovolcano  \n",
              "6     155.225  Pyroclastic shield  \n",
              "7     114.056       Stratovolcano  \n",
              "8     -70.850       Stratovolcano  \n",
              "9     124.892       Stratovolcano  \n",
              "10    147.120     Complex volcano  \n",
              "11    127.530       Stratovolcano  \n",
              "12    -19.083  Subglacial volcano  \n",
              "13    118.000       Stratovolcano  \n",
              "14    108.058       Stratovolcano  \n",
              "15    -87.570       Stratovolcano  \n",
              "16    161.360       Stratovolcano  \n",
              "17    -16.783       Stratovolcano  \n",
              "18    105.423             Caldera  \n",
              "19    -91.552       Stratovolcano  \n",
              "20    157.572       Stratovolcano  \n",
              "21   -154.963       Stratovolcano  \n",
              "22    160.595       Stratovolcano  "
            ],
            "text/html": [
              "\n",
              "  <div id=\"df-baa8dc27-992d-41f7-9af1-4e317a3ddd23\">\n",
              "    <div class=\"colab-df-container\">\n",
              "      <div>\n",
              "<style scoped>\n",
              "    .dataframe tbody tr th:only-of-type {\n",
              "        vertical-align: middle;\n",
              "    }\n",
              "\n",
              "    .dataframe tbody tr th {\n",
              "        vertical-align: top;\n",
              "    }\n",
              "\n",
              "    .dataframe thead th {\n",
              "        text-align: right;\n",
              "    }\n",
              "</style>\n",
              "<table border=\"1\" class=\"dataframe\">\n",
              "  <thead>\n",
              "    <tr style=\"text-align: right;\">\n",
              "      <th></th>\n",
              "      <th>Unnamed: 0</th>\n",
              "      <th>Name</th>\n",
              "      <th>Date</th>\n",
              "      <th>VEI</th>\n",
              "      <th>Type_x</th>\n",
              "      <th>Volcano Name</th>\n",
              "      <th>Country</th>\n",
              "      <th>Location</th>\n",
              "      <th>Latitude</th>\n",
              "      <th>Longitude</th>\n",
              "      <th>Type_y</th>\n",
              "    </tr>\n",
              "  </thead>\n",
              "  <tbody>\n",
              "    <tr>\n",
              "      <th>0</th>\n",
              "      <td>0</td>\n",
              "      <td>Aniakchak</td>\n",
              "      <td>1450C</td>\n",
              "      <td>5</td>\n",
              "      <td>Caldera</td>\n",
              "      <td>Aniakchak</td>\n",
              "      <td>United States</td>\n",
              "      <td>Alaska Peninsula</td>\n",
              "      <td>56.880</td>\n",
              "      <td>-158.170</td>\n",
              "      <td>Caldera</td>\n",
              "    </tr>\n",
              "    <tr>\n",
              "      <th>1</th>\n",
              "      <td>1</td>\n",
              "      <td>Kuwae</td>\n",
              "      <td>1452</td>\n",
              "      <td>6</td>\n",
              "      <td>Caldera</td>\n",
              "      <td>Kuwae</td>\n",
              "      <td>Vanuatu</td>\n",
              "      <td>Vanuatu-SW Pacific</td>\n",
              "      <td>-16.829</td>\n",
              "      <td>168.536</td>\n",
              "      <td>Caldera</td>\n",
              "    </tr>\n",
              "    <tr>\n",
              "      <th>2</th>\n",
              "      <td>2</td>\n",
              "      <td>Bardarbunga</td>\n",
              "      <td>1477</td>\n",
              "      <td>5</td>\n",
              "      <td>Stratovolcano</td>\n",
              "      <td>Bardarbunga</td>\n",
              "      <td>Iceland</td>\n",
              "      <td>Iceland-NE</td>\n",
              "      <td>64.633</td>\n",
              "      <td>-17.516</td>\n",
              "      <td>Stratovolcano</td>\n",
              "    </tr>\n",
              "    <tr>\n",
              "      <th>3</th>\n",
              "      <td>3</td>\n",
              "      <td>St. Helens</td>\n",
              "      <td>1480D</td>\n",
              "      <td>5</td>\n",
              "      <td>Stratovolcano</td>\n",
              "      <td>St. Helens</td>\n",
              "      <td>United States</td>\n",
              "      <td>US-Washington</td>\n",
              "      <td>46.200</td>\n",
              "      <td>-122.180</td>\n",
              "      <td>Stratovolcano</td>\n",
              "    </tr>\n",
              "    <tr>\n",
              "      <th>4</th>\n",
              "      <td>4</td>\n",
              "      <td>St. Helens</td>\n",
              "      <td>1540</td>\n",
              "      <td>5</td>\n",
              "      <td>Stratovolcano</td>\n",
              "      <td>St. Helens</td>\n",
              "      <td>United States</td>\n",
              "      <td>US-Washington</td>\n",
              "      <td>46.200</td>\n",
              "      <td>-122.180</td>\n",
              "      <td>Stratovolcano</td>\n",
              "    </tr>\n",
              "    <tr>\n",
              "      <th>5</th>\n",
              "      <td>5</td>\n",
              "      <td>St. Helens</td>\n",
              "      <td>18-May-80</td>\n",
              "      <td>5</td>\n",
              "      <td>Stratovolcano</td>\n",
              "      <td>St. Helens</td>\n",
              "      <td>United States</td>\n",
              "      <td>US-Washington</td>\n",
              "      <td>46.200</td>\n",
              "      <td>-122.180</td>\n",
              "      <td>Stratovolcano</td>\n",
              "    </tr>\n",
              "    <tr>\n",
              "      <th>6</th>\n",
              "      <td>6</td>\n",
              "      <td>Billy Mitchell</td>\n",
              "      <td>1580C</td>\n",
              "      <td>6</td>\n",
              "      <td>Ash shield</td>\n",
              "      <td>Billy Mitchell</td>\n",
              "      <td>Papua New Guinea</td>\n",
              "      <td>Bougainville-SW Paci</td>\n",
              "      <td>-6.092</td>\n",
              "      <td>155.225</td>\n",
              "      <td>Pyroclastic shield</td>\n",
              "    </tr>\n",
              "    <tr>\n",
              "      <th>7</th>\n",
              "      <td>7</td>\n",
              "      <td>Raung</td>\n",
              "      <td>1593</td>\n",
              "      <td>5</td>\n",
              "      <td>Stratovolcano</td>\n",
              "      <td>Raung</td>\n",
              "      <td>Indonesia</td>\n",
              "      <td>Java</td>\n",
              "      <td>-8.119</td>\n",
              "      <td>114.056</td>\n",
              "      <td>Stratovolcano</td>\n",
              "    </tr>\n",
              "    <tr>\n",
              "      <th>8</th>\n",
              "      <td>8</td>\n",
              "      <td>Huaynaputina</td>\n",
              "      <td>1600</td>\n",
              "      <td>6</td>\n",
              "      <td>Explosion crater</td>\n",
              "      <td>Huaynaputina</td>\n",
              "      <td>Peru</td>\n",
              "      <td>Peru</td>\n",
              "      <td>-16.608</td>\n",
              "      <td>-70.850</td>\n",
              "      <td>Stratovolcano</td>\n",
              "    </tr>\n",
              "    <tr>\n",
              "      <th>9</th>\n",
              "      <td>9</td>\n",
              "      <td>Parker</td>\n",
              "      <td>Jan. 4, 1641</td>\n",
              "      <td>6</td>\n",
              "      <td>Stratovolcano</td>\n",
              "      <td>Parker</td>\n",
              "      <td>Philippines</td>\n",
              "      <td>Mindanao-Philippines</td>\n",
              "      <td>6.113</td>\n",
              "      <td>124.892</td>\n",
              "      <td>Stratovolcano</td>\n",
              "    </tr>\n",
              "    <tr>\n",
              "      <th>10</th>\n",
              "      <td>10</td>\n",
              "      <td>Long Island</td>\n",
              "      <td>1660</td>\n",
              "      <td>6</td>\n",
              "      <td>Complex volcano</td>\n",
              "      <td>Long Island</td>\n",
              "      <td>Papua New Guinea</td>\n",
              "      <td>New Guinea-NE of</td>\n",
              "      <td>-5.358</td>\n",
              "      <td>147.120</td>\n",
              "      <td>Complex volcano</td>\n",
              "    </tr>\n",
              "    <tr>\n",
              "      <th>11</th>\n",
              "      <td>11</td>\n",
              "      <td>Gamkonora</td>\n",
              "      <td>1673</td>\n",
              "      <td>5</td>\n",
              "      <td>Stratovolcano</td>\n",
              "      <td>Gamkonora</td>\n",
              "      <td>Indonesia</td>\n",
              "      <td>Halmahera-Indonesia</td>\n",
              "      <td>1.380</td>\n",
              "      <td>127.530</td>\n",
              "      <td>Stratovolcano</td>\n",
              "    </tr>\n",
              "    <tr>\n",
              "      <th>12</th>\n",
              "      <td>12</td>\n",
              "      <td>Katla</td>\n",
              "      <td>Oct. 17, 1755</td>\n",
              "      <td>5</td>\n",
              "      <td>Subglacial</td>\n",
              "      <td>Katla</td>\n",
              "      <td>Iceland</td>\n",
              "      <td>Iceland-S</td>\n",
              "      <td>63.633</td>\n",
              "      <td>-19.083</td>\n",
              "      <td>Subglacial volcano</td>\n",
              "    </tr>\n",
              "    <tr>\n",
              "      <th>13</th>\n",
              "      <td>13</td>\n",
              "      <td>Tambora</td>\n",
              "      <td>April 5, 1815</td>\n",
              "      <td>7</td>\n",
              "      <td>Stratovolcano</td>\n",
              "      <td>Tambora</td>\n",
              "      <td>Indonesia</td>\n",
              "      <td>Lesser Sunda Is</td>\n",
              "      <td>-8.250</td>\n",
              "      <td>118.000</td>\n",
              "      <td>Stratovolcano</td>\n",
              "    </tr>\n",
              "    <tr>\n",
              "      <th>14</th>\n",
              "      <td>14</td>\n",
              "      <td>Galunggung</td>\n",
              "      <td>Oct. 8, 1822</td>\n",
              "      <td>5</td>\n",
              "      <td>Stratovolcano</td>\n",
              "      <td>Galunggung</td>\n",
              "      <td>Indonesia</td>\n",
              "      <td>Java</td>\n",
              "      <td>-7.250</td>\n",
              "      <td>108.058</td>\n",
              "      <td>Stratovolcano</td>\n",
              "    </tr>\n",
              "    <tr>\n",
              "      <th>15</th>\n",
              "      <td>15</td>\n",
              "      <td>Cosiguina</td>\n",
              "      <td>June 20, 1835</td>\n",
              "      <td>5</td>\n",
              "      <td>Stratovolcano</td>\n",
              "      <td>Cosiguina</td>\n",
              "      <td>Nicaragua</td>\n",
              "      <td>Nicaragua</td>\n",
              "      <td>12.980</td>\n",
              "      <td>-87.570</td>\n",
              "      <td>Stratovolcano</td>\n",
              "    </tr>\n",
              "    <tr>\n",
              "      <th>16</th>\n",
              "      <td>16</td>\n",
              "      <td>Sheveluch</td>\n",
              "      <td>Feb. 17, 1854</td>\n",
              "      <td>5</td>\n",
              "      <td>Stratovolcano</td>\n",
              "      <td>Sheveluch</td>\n",
              "      <td>Russia</td>\n",
              "      <td>Kamchatka</td>\n",
              "      <td>56.653</td>\n",
              "      <td>161.360</td>\n",
              "      <td>Stratovolcano</td>\n",
              "    </tr>\n",
              "    <tr>\n",
              "      <th>17</th>\n",
              "      <td>17</td>\n",
              "      <td>Askja</td>\n",
              "      <td>March 29, 1875</td>\n",
              "      <td>5</td>\n",
              "      <td>Stratovolcano</td>\n",
              "      <td>Askja</td>\n",
              "      <td>Iceland</td>\n",
              "      <td>Iceland-NE</td>\n",
              "      <td>65.033</td>\n",
              "      <td>-16.783</td>\n",
              "      <td>Stratovolcano</td>\n",
              "    </tr>\n",
              "    <tr>\n",
              "      <th>18</th>\n",
              "      <td>18</td>\n",
              "      <td>Krakatau</td>\n",
              "      <td>Aug. 26, 1883</td>\n",
              "      <td>6</td>\n",
              "      <td>Caldera</td>\n",
              "      <td>Krakatau</td>\n",
              "      <td>Indonesia</td>\n",
              "      <td>Indonesia</td>\n",
              "      <td>-6.102</td>\n",
              "      <td>105.423</td>\n",
              "      <td>Caldera</td>\n",
              "    </tr>\n",
              "    <tr>\n",
              "      <th>19</th>\n",
              "      <td>19</td>\n",
              "      <td>Santa Maria</td>\n",
              "      <td>Oct., 24, 1902</td>\n",
              "      <td>6</td>\n",
              "      <td>Stratovolcano</td>\n",
              "      <td>Santa Maria</td>\n",
              "      <td>Guatemala</td>\n",
              "      <td>Guatemala</td>\n",
              "      <td>14.757</td>\n",
              "      <td>-91.552</td>\n",
              "      <td>Stratovolcano</td>\n",
              "    </tr>\n",
              "    <tr>\n",
              "      <th>20</th>\n",
              "      <td>20</td>\n",
              "      <td>Ksudach</td>\n",
              "      <td>March 28, 1907</td>\n",
              "      <td>5</td>\n",
              "      <td>Shield</td>\n",
              "      <td>Ksudach</td>\n",
              "      <td>Russia</td>\n",
              "      <td>Kamchatka</td>\n",
              "      <td>51.844</td>\n",
              "      <td>157.572</td>\n",
              "      <td>Stratovolcano</td>\n",
              "    </tr>\n",
              "    <tr>\n",
              "      <th>21</th>\n",
              "      <td>21</td>\n",
              "      <td>Katmai</td>\n",
              "      <td>June 6, 1911</td>\n",
              "      <td>6</td>\n",
              "      <td>Stratovolcano</td>\n",
              "      <td>Katmai</td>\n",
              "      <td>United States</td>\n",
              "      <td>Alaska Peninsula</td>\n",
              "      <td>58.280</td>\n",
              "      <td>-154.963</td>\n",
              "      <td>Stratovolcano</td>\n",
              "    </tr>\n",
              "    <tr>\n",
              "      <th>22</th>\n",
              "      <td>22</td>\n",
              "      <td>Bezymianny</td>\n",
              "      <td>March 30, 1956</td>\n",
              "      <td>5</td>\n",
              "      <td>Stratovolcano</td>\n",
              "      <td>Bezymianny</td>\n",
              "      <td>Russia</td>\n",
              "      <td>Kamchatka</td>\n",
              "      <td>55.972</td>\n",
              "      <td>160.595</td>\n",
              "      <td>Stratovolcano</td>\n",
              "    </tr>\n",
              "  </tbody>\n",
              "</table>\n",
              "</div>\n",
              "      <button class=\"colab-df-convert\" onclick=\"convertToInteractive('df-baa8dc27-992d-41f7-9af1-4e317a3ddd23')\"\n",
              "              title=\"Convert this dataframe to an interactive table.\"\n",
              "              style=\"display:none;\">\n",
              "        \n",
              "  <svg xmlns=\"http://www.w3.org/2000/svg\" height=\"24px\"viewBox=\"0 0 24 24\"\n",
              "       width=\"24px\">\n",
              "    <path d=\"M0 0h24v24H0V0z\" fill=\"none\"/>\n",
              "    <path d=\"M18.56 5.44l.94 2.06.94-2.06 2.06-.94-2.06-.94-.94-2.06-.94 2.06-2.06.94zm-11 1L8.5 8.5l.94-2.06 2.06-.94-2.06-.94L8.5 2.5l-.94 2.06-2.06.94zm10 10l.94 2.06.94-2.06 2.06-.94-2.06-.94-.94-2.06-.94 2.06-2.06.94z\"/><path d=\"M17.41 7.96l-1.37-1.37c-.4-.4-.92-.59-1.43-.59-.52 0-1.04.2-1.43.59L10.3 9.45l-7.72 7.72c-.78.78-.78 2.05 0 2.83L4 21.41c.39.39.9.59 1.41.59.51 0 1.02-.2 1.41-.59l7.78-7.78 2.81-2.81c.8-.78.8-2.07 0-2.86zM5.41 20L4 18.59l7.72-7.72 1.47 1.35L5.41 20z\"/>\n",
              "  </svg>\n",
              "      </button>\n",
              "      \n",
              "  <style>\n",
              "    .colab-df-container {\n",
              "      display:flex;\n",
              "      flex-wrap:wrap;\n",
              "      gap: 12px;\n",
              "    }\n",
              "\n",
              "    .colab-df-convert {\n",
              "      background-color: #E8F0FE;\n",
              "      border: none;\n",
              "      border-radius: 50%;\n",
              "      cursor: pointer;\n",
              "      display: none;\n",
              "      fill: #1967D2;\n",
              "      height: 32px;\n",
              "      padding: 0 0 0 0;\n",
              "      width: 32px;\n",
              "    }\n",
              "\n",
              "    .colab-df-convert:hover {\n",
              "      background-color: #E2EBFA;\n",
              "      box-shadow: 0px 1px 2px rgba(60, 64, 67, 0.3), 0px 1px 3px 1px rgba(60, 64, 67, 0.15);\n",
              "      fill: #174EA6;\n",
              "    }\n",
              "\n",
              "    [theme=dark] .colab-df-convert {\n",
              "      background-color: #3B4455;\n",
              "      fill: #D2E3FC;\n",
              "    }\n",
              "\n",
              "    [theme=dark] .colab-df-convert:hover {\n",
              "      background-color: #434B5C;\n",
              "      box-shadow: 0px 1px 3px 1px rgba(0, 0, 0, 0.15);\n",
              "      filter: drop-shadow(0px 1px 2px rgba(0, 0, 0, 0.3));\n",
              "      fill: #FFFFFF;\n",
              "    }\n",
              "  </style>\n",
              "\n",
              "      <script>\n",
              "        const buttonEl =\n",
              "          document.querySelector('#df-baa8dc27-992d-41f7-9af1-4e317a3ddd23 button.colab-df-convert');\n",
              "        buttonEl.style.display =\n",
              "          google.colab.kernel.accessAllowed ? 'block' : 'none';\n",
              "\n",
              "        async function convertToInteractive(key) {\n",
              "          const element = document.querySelector('#df-baa8dc27-992d-41f7-9af1-4e317a3ddd23');\n",
              "          const dataTable =\n",
              "            await google.colab.kernel.invokeFunction('convertToInteractive',\n",
              "                                                     [key], {});\n",
              "          if (!dataTable) return;\n",
              "\n",
              "          const docLinkHtml = 'Like what you see? Visit the ' +\n",
              "            '<a target=\"_blank\" href=https://colab.research.google.com/notebooks/data_table.ipynb>data table notebook</a>'\n",
              "            + ' to learn more about interactive tables.';\n",
              "          element.innerHTML = '';\n",
              "          dataTable['output_type'] = 'display_data';\n",
              "          await google.colab.output.renderOutput(dataTable, element);\n",
              "          const docLink = document.createElement('div');\n",
              "          docLink.innerHTML = docLinkHtml;\n",
              "          element.appendChild(docLink);\n",
              "        }\n",
              "      </script>\n",
              "    </div>\n",
              "  </div>\n",
              "  "
            ]
          },
          "metadata": {},
          "execution_count": 5
        }
      ]
    },
    {
      "cell_type": "code",
      "source": [
        "historical_eruptions_df_clean = historical_eruptions_df[['Date', 'VEI', 'Volcano Name', 'Country']]\n",
        "historical_eruptions_df_clean['Type'] = historical_eruptions_df['Type_x']"
      ],
      "metadata": {
        "colab": {
          "base_uri": "https://localhost:8080/"
        },
        "id": "6QjBrhnuZOnw",
        "outputId": "209ca365-1009-4afe-8ea6-a673e8e5067b"
      },
      "execution_count": 6,
      "outputs": [
        {
          "output_type": "stream",
          "name": "stderr",
          "text": [
            "<ipython-input-6-4259632deec8>:2: SettingWithCopyWarning: \n",
            "A value is trying to be set on a copy of a slice from a DataFrame.\n",
            "Try using .loc[row_indexer,col_indexer] = value instead\n",
            "\n",
            "See the caveats in the documentation: https://pandas.pydata.org/pandas-docs/stable/user_guide/indexing.html#returning-a-view-versus-a-copy\n",
            "  historical_eruptions_df_clean['Type'] = historical_eruptions_df['Type_x']\n"
          ]
        }
      ]
    },
    {
      "cell_type": "markdown",
      "source": [
        "# Building Models\n",
        "\n",
        "---\n",
        "\n",
        "-Training variables: Volcano Name, Country, VEI, Type, mag\n",
        "\n",
        "-Predicting: mag (magnitude of earthquake per given eruption)"
      ],
      "metadata": {
        "id": "KXJwAZaU5xVb"
      }
    },
    {
      "cell_type": "code",
      "source": [
        "import pandas as pd\n",
        "import numpy as np\n",
        "import matplotlib.pyplot as plt\n",
        "from sklearn.model_selection import cross_val_score\n",
        "from sklearn.linear_model import LinearRegression\n",
        "from sklearn.neighbors import KNeighborsRegressor\n",
        "from sklearn.ensemble import RandomForestRegressor\n",
        "from sklearn.feature_extraction.text import TfidfVectorizer\n",
        "from sklearn.neighbors import KNeighborsRegressor\n",
        "from sklearn.preprocessing import OneHotEncoder\n",
        "from sklearn.pipeline import make_pipeline\n",
        "from sklearn.compose import make_column_transformer\n",
        "from sklearn.preprocessing import StandardScaler\n",
        "from sklearn.model_selection import cross_val_score \n",
        "from sklearn.compose import ColumnTransformer\n",
        "from sklearn.model_selection import GridSearchCV\n",
        "from sklearn.preprocessing import StandardScaler, MinMaxScaler, RobustScaler\n",
        "from sklearn.tree import DecisionTreeRegressor"
      ],
      "metadata": {
        "id": "cDv4MFRL5haw"
      },
      "execution_count": 7,
      "outputs": []
    },
    {
      "cell_type": "markdown",
      "source": [
        "# How will I treat NaN's?\n",
        "\n",
        "---\n",
        "\n",
        "Currently, I have some NaN values for magnitude and for VEI depending on if the row represents an earthquake without an eruption or an eruption without an earthquake. \n",
        "\n",
        "For NaN's in magnitude I will drop those from the data set since an eruption without earthquake data is not helpful, and further most if not all of my data exploration was done soely with volcanoes which had seismic data. \n",
        "\n",
        "For the NaN's in my VEI data, I will fill those in with 0's as those rows indicate earthquakes which occured outside of an eruption, meaning there was no eruption and the magnitude was 0!"
      ],
      "metadata": {
        "id": "MaYEYRMKdecY"
      }
    },
    {
      "cell_type": "code",
      "source": [
        "#drop rows without mag data\n",
        "eq_erupt_df_clean = eq_erupt_df_clean.dropna(subset='mag')\n",
        "#fill in VEI nan's with 0\n",
        "eq_erupt_df_clean['VEI'] = eq_erupt_df_clean['VEI'].fillna(0)"
      ],
      "metadata": {
        "colab": {
          "base_uri": "https://localhost:8080/"
        },
        "id": "JJWUhs_IeUHt",
        "outputId": "9c71c13a-c391-4ffd-d7eb-b666a0ff420e"
      },
      "execution_count": 8,
      "outputs": [
        {
          "output_type": "stream",
          "name": "stderr",
          "text": [
            "<ipython-input-8-22b4a5126a75>:4: SettingWithCopyWarning: \n",
            "A value is trying to be set on a copy of a slice from a DataFrame.\n",
            "Try using .loc[row_indexer,col_indexer] = value instead\n",
            "\n",
            "See the caveats in the documentation: https://pandas.pydata.org/pandas-docs/stable/user_guide/indexing.html#returning-a-view-versus-a-copy\n",
            "  eq_erupt_df_clean['VEI'] = eq_erupt_df_clean['VEI'].fillna(0)\n"
          ]
        }
      ]
    },
    {
      "cell_type": "markdown",
      "source": [
        "# 1) Kneighbors- testing optimal K, scaler, and metric"
      ],
      "metadata": {
        "id": "sLoip0Lh75s0"
      }
    },
    {
      "cell_type": "code",
      "source": [
        "#define vars\n",
        "\n",
        "features = list(eq_erupt_df_clean.columns.drop([\"depth\", 'mag']))\n",
        "cat_vars = ['Country', 'Volcano Name', 'Type']\n",
        "quant_vars = [f for f in features if f not in cat_vars]\n",
        "\n",
        "\n",
        "y_train = eq_erupt_df_clean[\"mag\"]"
      ],
      "metadata": {
        "id": "k7xOVTQNcjOt"
      },
      "execution_count": 9,
      "outputs": []
    },
    {
      "cell_type": "markdown",
      "source": [
        "1.a) Testing K"
      ],
      "metadata": {
        "id": "F8du8454iFks"
      }
    },
    {
      "cell_type": "code",
      "source": [
        "from typing_extensions import ClassVar\n",
        "\n",
        "X_train = eq_erupt_df_clean[features]\n",
        "\n",
        "#make column transformer\n",
        "ct = make_column_transformer(\n",
        "    (StandardScaler(), quant_vars),\n",
        "    (OneHotEncoder(handle_unknown=\"ignore\"), cat_vars),\n",
        "    remainder=\"passthrough\")\n",
        "#pipeline\n",
        "pipeline = make_pipeline(\n",
        "    ct,\n",
        "    KNeighborsRegressor(metric=\"cosine\"))\n",
        "\n",
        "cv = GridSearchCV(pipeline,\n",
        "                   param_grid={\n",
        "                       \"kneighborsregressor__n_neighbors\": range(1, 20)\n",
        "                       },\n",
        "                   scoring=\"neg_mean_squared_error\",\n",
        "                   cv=10)\n",
        "cv.fit(X_train, y_train)\n",
        "cv.best_estimator_"
      ],
      "metadata": {
        "colab": {
          "base_uri": "https://localhost:8080/",
          "height": 192
        },
        "id": "7CPja8hjh8sm",
        "outputId": "73c2028d-8f94-4a2d-f691-25184bf8831e"
      },
      "execution_count": 10,
      "outputs": [
        {
          "output_type": "execute_result",
          "data": {
            "text/plain": [
              "Pipeline(steps=[('columntransformer',\n",
              "                 ColumnTransformer(remainder='passthrough',\n",
              "                                   transformers=[('standardscaler',\n",
              "                                                  StandardScaler(), ['VEI']),\n",
              "                                                 ('onehotencoder',\n",
              "                                                  OneHotEncoder(handle_unknown='ignore'),\n",
              "                                                  ['Country', 'Volcano Name',\n",
              "                                                   'Type'])])),\n",
              "                ('kneighborsregressor',\n",
              "                 KNeighborsRegressor(metric='cosine', n_neighbors=15))])"
            ],
            "text/html": [
              "<style>#sk-container-id-1 {color: black;background-color: white;}#sk-container-id-1 pre{padding: 0;}#sk-container-id-1 div.sk-toggleable {background-color: white;}#sk-container-id-1 label.sk-toggleable__label {cursor: pointer;display: block;width: 100%;margin-bottom: 0;padding: 0.3em;box-sizing: border-box;text-align: center;}#sk-container-id-1 label.sk-toggleable__label-arrow:before {content: \"▸\";float: left;margin-right: 0.25em;color: #696969;}#sk-container-id-1 label.sk-toggleable__label-arrow:hover:before {color: black;}#sk-container-id-1 div.sk-estimator:hover label.sk-toggleable__label-arrow:before {color: black;}#sk-container-id-1 div.sk-toggleable__content {max-height: 0;max-width: 0;overflow: hidden;text-align: left;background-color: #f0f8ff;}#sk-container-id-1 div.sk-toggleable__content pre {margin: 0.2em;color: black;border-radius: 0.25em;background-color: #f0f8ff;}#sk-container-id-1 input.sk-toggleable__control:checked~div.sk-toggleable__content {max-height: 200px;max-width: 100%;overflow: auto;}#sk-container-id-1 input.sk-toggleable__control:checked~label.sk-toggleable__label-arrow:before {content: \"▾\";}#sk-container-id-1 div.sk-estimator input.sk-toggleable__control:checked~label.sk-toggleable__label {background-color: #d4ebff;}#sk-container-id-1 div.sk-label input.sk-toggleable__control:checked~label.sk-toggleable__label {background-color: #d4ebff;}#sk-container-id-1 input.sk-hidden--visually {border: 0;clip: rect(1px 1px 1px 1px);clip: rect(1px, 1px, 1px, 1px);height: 1px;margin: -1px;overflow: hidden;padding: 0;position: absolute;width: 1px;}#sk-container-id-1 div.sk-estimator {font-family: monospace;background-color: #f0f8ff;border: 1px dotted black;border-radius: 0.25em;box-sizing: border-box;margin-bottom: 0.5em;}#sk-container-id-1 div.sk-estimator:hover {background-color: #d4ebff;}#sk-container-id-1 div.sk-parallel-item::after {content: \"\";width: 100%;border-bottom: 1px solid gray;flex-grow: 1;}#sk-container-id-1 div.sk-label:hover label.sk-toggleable__label {background-color: #d4ebff;}#sk-container-id-1 div.sk-serial::before {content: \"\";position: absolute;border-left: 1px solid gray;box-sizing: border-box;top: 0;bottom: 0;left: 50%;z-index: 0;}#sk-container-id-1 div.sk-serial {display: flex;flex-direction: column;align-items: center;background-color: white;padding-right: 0.2em;padding-left: 0.2em;position: relative;}#sk-container-id-1 div.sk-item {position: relative;z-index: 1;}#sk-container-id-1 div.sk-parallel {display: flex;align-items: stretch;justify-content: center;background-color: white;position: relative;}#sk-container-id-1 div.sk-item::before, #sk-container-id-1 div.sk-parallel-item::before {content: \"\";position: absolute;border-left: 1px solid gray;box-sizing: border-box;top: 0;bottom: 0;left: 50%;z-index: -1;}#sk-container-id-1 div.sk-parallel-item {display: flex;flex-direction: column;z-index: 1;position: relative;background-color: white;}#sk-container-id-1 div.sk-parallel-item:first-child::after {align-self: flex-end;width: 50%;}#sk-container-id-1 div.sk-parallel-item:last-child::after {align-self: flex-start;width: 50%;}#sk-container-id-1 div.sk-parallel-item:only-child::after {width: 0;}#sk-container-id-1 div.sk-dashed-wrapped {border: 1px dashed gray;margin: 0 0.4em 0.5em 0.4em;box-sizing: border-box;padding-bottom: 0.4em;background-color: white;}#sk-container-id-1 div.sk-label label {font-family: monospace;font-weight: bold;display: inline-block;line-height: 1.2em;}#sk-container-id-1 div.sk-label-container {text-align: center;}#sk-container-id-1 div.sk-container {/* jupyter's `normalize.less` sets `[hidden] { display: none; }` but bootstrap.min.css set `[hidden] { display: none !important; }` so we also need the `!important` here to be able to override the default hidden behavior on the sphinx rendered scikit-learn.org. See: https://github.com/scikit-learn/scikit-learn/issues/21755 */display: inline-block !important;position: relative;}#sk-container-id-1 div.sk-text-repr-fallback {display: none;}</style><div id=\"sk-container-id-1\" class=\"sk-top-container\"><div class=\"sk-text-repr-fallback\"><pre>Pipeline(steps=[(&#x27;columntransformer&#x27;,\n",
              "                 ColumnTransformer(remainder=&#x27;passthrough&#x27;,\n",
              "                                   transformers=[(&#x27;standardscaler&#x27;,\n",
              "                                                  StandardScaler(), [&#x27;VEI&#x27;]),\n",
              "                                                 (&#x27;onehotencoder&#x27;,\n",
              "                                                  OneHotEncoder(handle_unknown=&#x27;ignore&#x27;),\n",
              "                                                  [&#x27;Country&#x27;, &#x27;Volcano Name&#x27;,\n",
              "                                                   &#x27;Type&#x27;])])),\n",
              "                (&#x27;kneighborsregressor&#x27;,\n",
              "                 KNeighborsRegressor(metric=&#x27;cosine&#x27;, n_neighbors=15))])</pre><b>In a Jupyter environment, please rerun this cell to show the HTML representation or trust the notebook. <br />On GitHub, the HTML representation is unable to render, please try loading this page with nbviewer.org.</b></div><div class=\"sk-container\" hidden><div class=\"sk-item sk-dashed-wrapped\"><div class=\"sk-label-container\"><div class=\"sk-label sk-toggleable\"><input class=\"sk-toggleable__control sk-hidden--visually\" id=\"sk-estimator-id-1\" type=\"checkbox\" ><label for=\"sk-estimator-id-1\" class=\"sk-toggleable__label sk-toggleable__label-arrow\">Pipeline</label><div class=\"sk-toggleable__content\"><pre>Pipeline(steps=[(&#x27;columntransformer&#x27;,\n",
              "                 ColumnTransformer(remainder=&#x27;passthrough&#x27;,\n",
              "                                   transformers=[(&#x27;standardscaler&#x27;,\n",
              "                                                  StandardScaler(), [&#x27;VEI&#x27;]),\n",
              "                                                 (&#x27;onehotencoder&#x27;,\n",
              "                                                  OneHotEncoder(handle_unknown=&#x27;ignore&#x27;),\n",
              "                                                  [&#x27;Country&#x27;, &#x27;Volcano Name&#x27;,\n",
              "                                                   &#x27;Type&#x27;])])),\n",
              "                (&#x27;kneighborsregressor&#x27;,\n",
              "                 KNeighborsRegressor(metric=&#x27;cosine&#x27;, n_neighbors=15))])</pre></div></div></div><div class=\"sk-serial\"><div class=\"sk-item sk-dashed-wrapped\"><div class=\"sk-label-container\"><div class=\"sk-label sk-toggleable\"><input class=\"sk-toggleable__control sk-hidden--visually\" id=\"sk-estimator-id-2\" type=\"checkbox\" ><label for=\"sk-estimator-id-2\" class=\"sk-toggleable__label sk-toggleable__label-arrow\">columntransformer: ColumnTransformer</label><div class=\"sk-toggleable__content\"><pre>ColumnTransformer(remainder=&#x27;passthrough&#x27;,\n",
              "                  transformers=[(&#x27;standardscaler&#x27;, StandardScaler(), [&#x27;VEI&#x27;]),\n",
              "                                (&#x27;onehotencoder&#x27;,\n",
              "                                 OneHotEncoder(handle_unknown=&#x27;ignore&#x27;),\n",
              "                                 [&#x27;Country&#x27;, &#x27;Volcano Name&#x27;, &#x27;Type&#x27;])])</pre></div></div></div><div class=\"sk-parallel\"><div class=\"sk-parallel-item\"><div class=\"sk-item\"><div class=\"sk-label-container\"><div class=\"sk-label sk-toggleable\"><input class=\"sk-toggleable__control sk-hidden--visually\" id=\"sk-estimator-id-3\" type=\"checkbox\" ><label for=\"sk-estimator-id-3\" class=\"sk-toggleable__label sk-toggleable__label-arrow\">standardscaler</label><div class=\"sk-toggleable__content\"><pre>[&#x27;VEI&#x27;]</pre></div></div></div><div class=\"sk-serial\"><div class=\"sk-item\"><div class=\"sk-estimator sk-toggleable\"><input class=\"sk-toggleable__control sk-hidden--visually\" id=\"sk-estimator-id-4\" type=\"checkbox\" ><label for=\"sk-estimator-id-4\" class=\"sk-toggleable__label sk-toggleable__label-arrow\">StandardScaler</label><div class=\"sk-toggleable__content\"><pre>StandardScaler()</pre></div></div></div></div></div></div><div class=\"sk-parallel-item\"><div class=\"sk-item\"><div class=\"sk-label-container\"><div class=\"sk-label sk-toggleable\"><input class=\"sk-toggleable__control sk-hidden--visually\" id=\"sk-estimator-id-5\" type=\"checkbox\" ><label for=\"sk-estimator-id-5\" class=\"sk-toggleable__label sk-toggleable__label-arrow\">onehotencoder</label><div class=\"sk-toggleable__content\"><pre>[&#x27;Country&#x27;, &#x27;Volcano Name&#x27;, &#x27;Type&#x27;]</pre></div></div></div><div class=\"sk-serial\"><div class=\"sk-item\"><div class=\"sk-estimator sk-toggleable\"><input class=\"sk-toggleable__control sk-hidden--visually\" id=\"sk-estimator-id-6\" type=\"checkbox\" ><label for=\"sk-estimator-id-6\" class=\"sk-toggleable__label sk-toggleable__label-arrow\">OneHotEncoder</label><div class=\"sk-toggleable__content\"><pre>OneHotEncoder(handle_unknown=&#x27;ignore&#x27;)</pre></div></div></div></div></div></div><div class=\"sk-parallel-item\"><div class=\"sk-item\"><div class=\"sk-label-container\"><div class=\"sk-label sk-toggleable\"><input class=\"sk-toggleable__control sk-hidden--visually\" id=\"sk-estimator-id-7\" type=\"checkbox\" ><label for=\"sk-estimator-id-7\" class=\"sk-toggleable__label sk-toggleable__label-arrow\">remainder</label><div class=\"sk-toggleable__content\"><pre>[]</pre></div></div></div><div class=\"sk-serial\"><div class=\"sk-item\"><div class=\"sk-estimator sk-toggleable\"><input class=\"sk-toggleable__control sk-hidden--visually\" id=\"sk-estimator-id-8\" type=\"checkbox\" ><label for=\"sk-estimator-id-8\" class=\"sk-toggleable__label sk-toggleable__label-arrow\">passthrough</label><div class=\"sk-toggleable__content\"><pre>passthrough</pre></div></div></div></div></div></div></div></div><div class=\"sk-item\"><div class=\"sk-estimator sk-toggleable\"><input class=\"sk-toggleable__control sk-hidden--visually\" id=\"sk-estimator-id-9\" type=\"checkbox\" ><label for=\"sk-estimator-id-9\" class=\"sk-toggleable__label sk-toggleable__label-arrow\">KNeighborsRegressor</label><div class=\"sk-toggleable__content\"><pre>KNeighborsRegressor(metric=&#x27;cosine&#x27;, n_neighbors=15)</pre></div></div></div></div></div></div></div>"
            ]
          },
          "metadata": {},
          "execution_count": 10
        }
      ]
    },
    {
      "cell_type": "code",
      "source": [
        "\n",
        "results = cv.cv_results_\n",
        "\n",
        "# plot rsme with each k \n",
        "cv_rmse = pd.Series(\n",
        "            np.sqrt(-results[\"mean_test_score\"]),\n",
        "            index=results[\"param_kneighborsregressor__n_neighbors\"]\n",
        "            )\n",
        "\n",
        "cv_rmse.plot.line(legend=True, label=\"Validation RMSE\", figsize=(18, 10), title=\"Validation RMSE vs K\")\n",
        "cv_rmse.sort_values().head(2)"
      ],
      "metadata": {
        "colab": {
          "base_uri": "https://localhost:8080/",
          "height": 661
        },
        "id": "r9YhL2gni4Xw",
        "outputId": "44dfb1cd-6be2-4569-e64e-01eda95e298e"
      },
      "execution_count": 11,
      "outputs": [
        {
          "output_type": "execute_result",
          "data": {
            "text/plain": [
              "15    0.379522\n",
              "14    0.381626\n",
              "dtype: float64"
            ]
          },
          "metadata": {},
          "execution_count": 11
        },
        {
          "output_type": "display_data",
          "data": {
            "text/plain": [
              "<Figure size 1296x720 with 1 Axes>"
            ],
            "image/png": "[encoded data removed]"
          },
          "metadata": {
            "needs_background": "light"
          }
        }
      ]
    },
    {
      "cell_type": "markdown",
      "source": [
        "Interesting results! There is big decrease in RSME at 3.5 ish. But the optimal K is 15, which I will proceed with"
      ],
      "metadata": {
        "id": "oxDjDlnvjCUq"
      }
    },
    {
      "cell_type": "markdown",
      "source": [
        "1.b) Testing scaler with metric"
      ],
      "metadata": {
        "id": "UK_EbY-njK5F"
      }
    },
    {
      "cell_type": "code",
      "source": [
        "\n",
        "#define my scalers\n",
        "scalers = [StandardScaler(), MinMaxScaler(), RobustScaler()]\n",
        "\n",
        "for scaler in scalers:\n",
        "  #again dropping not necessary but does not hurt\n",
        "  #here I flip through each scaler\n",
        "  ct = make_column_transformer(\n",
        "    (scaler, quant_vars),\n",
        "    (OneHotEncoder(handle_unknown=\"ignore\"), cat_vars),\n",
        "    remainder=\"passthrough\")\n",
        "\n",
        "  pipeline = make_pipeline(\n",
        "    ct,\n",
        "    KNeighborsRegressor(n_neighbors=15))\n",
        "\n",
        "  #test each of the metrics with each scaler and possible k\n",
        "  grid_cv = GridSearchCV(\n",
        "  pipeline,\n",
        "  param_grid={\n",
        "  \"kneighborsregressor__metric\": [\"euclidean\", \"manhattan\", \"cosine\"]},\n",
        "  scoring=\"neg_mean_squared_error\", cv=10)\n",
        "  grid_cv.fit(X_train, y_train)\n",
        "  print(scaler, ':', grid_cv.best_params_, ':', -grid_cv.best_score_)"
      ],
      "metadata": {
        "colab": {
          "base_uri": "https://localhost:8080/"
        },
        "id": "7vwtO2hK7-rg",
        "outputId": "0e543469-d90c-4c59-a44d-6736908f1894"
      },
      "execution_count": 12,
      "outputs": [
        {
          "output_type": "stream",
          "name": "stdout",
          "text": [
            "StandardScaler() : {'kneighborsregressor__metric': 'cosine'} : 0.1440367035078996\n",
            "MinMaxScaler() : {'kneighborsregressor__metric': 'cosine'} : 0.1440367035078996\n",
            "RobustScaler() : {'kneighborsregressor__metric': 'cosine'} : 0.1440367035078996\n"
          ]
        }
      ]
    },
    {
      "cell_type": "markdown",
      "source": [
        "Now I know that cosine is the best metric but actually the scaler has no effect on my RSME\n",
        "\n",
        "My final Kneighbors model: k=15, metric=cosine, and scaler=StandardScaler()\n",
        "\n",
        "**My best RSME is: 0.1440367!**"
      ],
      "metadata": {
        "id": "b8r0ss9-kDpD"
      }
    },
    {
      "cell_type": "markdown",
      "source": [
        "# Predicting with KNeighbors\n",
        "\n",
        "---\n",
        "\n",
        "I've finished testing with my first machine learning model and now I am ready to predict with KNeighbors so I can save my model and outputs for future use!"
      ],
      "metadata": {
        "id": "sV6TBemIkgMz"
      }
    },
    {
      "cell_type": "code",
      "source": [
        "test_df = historical_eruptions_df_clean[['Type', 'VEI', 'Volcano Name', 'Country']]\n",
        "\n",
        "ct_kneigh = make_column_transformer(\n",
        "    (StandardScaler(), quant_vars),\n",
        "    (OneHotEncoder(handle_unknown=\"ignore\"), cat_vars),\n",
        "    remainder=\"passthrough\")\n",
        "model_kneigh = make_pipeline(ct,KNeighborsRegressor(n_neighbors=15, metric='cosine'))\n",
        "\n",
        "model_kneigh.fit(X_train, y_train)\n",
        "output_kneigh = model_kneigh.predict(test_df)"
      ],
      "metadata": {
        "id": "9SEtU8MgkqWx"
      },
      "execution_count": 13,
      "outputs": []
    },
    {
      "cell_type": "markdown",
      "source": [
        "# 2) Linear Regression\n",
        "\n",
        "---\n",
        "Now we can repeat the methodology above with Linear Regression\n"
      ],
      "metadata": {
        "id": "ro11PxPtBBaC"
      }
    },
    {
      "cell_type": "markdown",
      "source": [
        "2.a) testing scaler for linear regression"
      ],
      "metadata": {
        "id": "N9wdYABbm85L"
      }
    },
    {
      "cell_type": "code",
      "source": [
        "\n",
        "#testing same scaler above\n",
        "for scaler in scalers:\n",
        "  #again dropping not necessary but does not hurt\n",
        "  ct = make_column_transformer(\n",
        "    (scaler, quant_vars), \n",
        "    (OneHotEncoder(handle_unknown='ignore'), cat_vars),\n",
        "    remainder=\"drop\")\n",
        "  #now apply the preprocessors to the pipeline\n",
        "  pipeline = make_pipeline(ct, LinearRegression())\n",
        "  #test each of the metrics with each scaler and possible k\n",
        "  print(scaler, ':', -cross_val_score(pipeline, X_train, y_train, scoring='neg_mean_squared_error', cv=10).mean())\n"
      ],
      "metadata": {
        "colab": {
          "base_uri": "https://localhost:8080/"
        },
        "id": "V5SMkg_bA8kp",
        "outputId": "25726d4d-2e5e-4cd7-a551-47b38e1a02b4"
      },
      "execution_count": 14,
      "outputs": [
        {
          "output_type": "stream",
          "name": "stdout",
          "text": [
            "StandardScaler() : 8.18189708539068e+24\n",
            "MinMaxScaler() : 8.18189708539068e+24\n",
            "RobustScaler() : 8.18189708539068e+24\n"
          ]
        }
      ]
    },
    {
      "cell_type": "markdown",
      "source": [
        "Wow! high RSME!\n",
        "\n",
        "**My lowest RSME is: 8.1819 x 10^24**\n",
        "\n",
        "I will still save my outputs but might not include it in my emsemble models later on"
      ],
      "metadata": {
        "id": "lQ_IBX1UnaQt"
      }
    },
    {
      "cell_type": "markdown",
      "source": [
        "# Predicting with LinearRegression"
      ],
      "metadata": {
        "id": "LstibJIzqBdP"
      }
    },
    {
      "cell_type": "code",
      "source": [
        "\n",
        "ct_LR = make_column_transformer(\n",
        "    (StandardScaler(), quant_vars),\n",
        "    (OneHotEncoder(handle_unknown=\"ignore\"), cat_vars),\n",
        "    remainder=\"passthrough\")\n",
        "model_LR = make_pipeline(ct,LinearRegression())\n",
        "\n",
        "model_LR.fit(X_train, y_train)\n",
        "output_LR = model_LR.predict(test_df)"
      ],
      "metadata": {
        "id": "AOEcWEN_pWAz"
      },
      "execution_count": 15,
      "outputs": []
    },
    {
      "cell_type": "markdown",
      "source": [
        "# 3) Random Forest "
      ],
      "metadata": {
        "id": "UesExDTEnm3f"
      }
    },
    {
      "cell_type": "markdown",
      "source": [
        "3.a) testing k and scaler"
      ],
      "metadata": {
        "id": "vWK7kKpAn0LL"
      }
    },
    {
      "cell_type": "code",
      "source": [
        "\n",
        "for scaler in scalers:\n",
        "  #again dropping not necessary but does not hurt\n",
        "  ct = make_column_transformer(\n",
        "    (scaler, quant_vars), \n",
        "    (OneHotEncoder(handle_unknown='ignore'), cat_vars),\n",
        "    remainder=\"drop\")\n",
        "  #now apply the preprocessors to the pipeline\n",
        "  pipeline = make_pipeline(ct, RandomForestRegressor())\n",
        "  #test each of the metrics with each scaler and possible k\n",
        "  grid_cv = GridSearchCV(\n",
        "  pipeline,\n",
        "  param_grid={\n",
        "  \"randomforestregressor__n_estimators\":range(1,51,5)},\n",
        "  scoring=\"neg_mean_squared_error\", cv=10)\n",
        "  grid_cv.fit(X_train, y_train)\n",
        "  print(scaler, ':', grid_cv.best_params_, ':', -grid_cv.best_score_)"
      ],
      "metadata": {
        "colab": {
          "base_uri": "https://localhost:8080/"
        },
        "id": "N166JS8GB8Qk",
        "outputId": "5ff36131-22d5-46ce-f9d4-10fa3ffc5c0e"
      },
      "execution_count": 16,
      "outputs": [
        {
          "output_type": "stream",
          "name": "stdout",
          "text": [
            "StandardScaler() : {'randomforestregressor__n_estimators': 26} : 0.13493612555081852\n",
            "MinMaxScaler() : {'randomforestregressor__n_estimators': 6} : 0.1348206011747994\n",
            "RobustScaler() : {'randomforestregressor__n_estimators': 16} : 0.13502803839826844\n"
          ]
        }
      ]
    },
    {
      "cell_type": "markdown",
      "source": [
        "MinMaxScaler with n_estimators of 6 is optimal\n",
        "\n",
        "However since the RSME's are pretty close let's plot some errors with K (n_estimators) to see if there is any odd behaviors.\n",
        "\n",
        "Let's plot this to explore more before chosing which combo to go forward with!"
      ],
      "metadata": {
        "id": "k5kW_d1boCsK"
      }
    },
    {
      "cell_type": "code",
      "source": [
        "#testin minmax combo\n",
        "\n",
        "ct = make_column_transformer(\n",
        "    (MinMaxScaler(), quant_vars),\n",
        "    (OneHotEncoder(handle_unknown=\"ignore\"), cat_vars),\n",
        "    remainder=\"passthrough\")\n",
        "#pipeline\n",
        "pipeline = make_pipeline(\n",
        "    ct,\n",
        "    RandomForestRegressor())\n",
        "\n",
        "cv = GridSearchCV(pipeline,\n",
        "                   param_grid={\n",
        "                       \"randomforestregressor__n_estimators\":range(1,51,5)\n",
        "                       },\n",
        "                   scoring=\"neg_mean_squared_error\",\n",
        "                   cv=10)\n",
        "cv.fit(X_train, y_train)\n",
        "cv.best_estimator_"
      ],
      "metadata": {
        "colab": {
          "base_uri": "https://localhost:8080/",
          "height": 192
        },
        "id": "tVHafztFoSRn",
        "outputId": "fc84f54d-fbbd-4e0f-b86c-792e5ab15b40"
      },
      "execution_count": 17,
      "outputs": [
        {
          "output_type": "execute_result",
          "data": {
            "text/plain": [
              "Pipeline(steps=[('columntransformer',\n",
              "                 ColumnTransformer(remainder='passthrough',\n",
              "                                   transformers=[('minmaxscaler',\n",
              "                                                  MinMaxScaler(), ['VEI']),\n",
              "                                                 ('onehotencoder',\n",
              "                                                  OneHotEncoder(handle_unknown='ignore'),\n",
              "                                                  ['Country', 'Volcano Name',\n",
              "                                                   'Type'])])),\n",
              "                ('randomforestregressor',\n",
              "                 RandomForestRegressor(n_estimators=31))])"
            ],
            "text/html": [
              "<style>#sk-container-id-2 {color: black;background-color: white;}#sk-container-id-2 pre{padding: 0;}#sk-container-id-2 div.sk-toggleable {background-color: white;}#sk-container-id-2 label.sk-toggleable__label {cursor: pointer;display: block;width: 100%;margin-bottom: 0;padding: 0.3em;box-sizing: border-box;text-align: center;}#sk-container-id-2 label.sk-toggleable__label-arrow:before {content: \"▸\";float: left;margin-right: 0.25em;color: #696969;}#sk-container-id-2 label.sk-toggleable__label-arrow:hover:before {color: black;}#sk-container-id-2 div.sk-estimator:hover label.sk-toggleable__label-arrow:before {color: black;}#sk-container-id-2 div.sk-toggleable__content {max-height: 0;max-width: 0;overflow: hidden;text-align: left;background-color: #f0f8ff;}#sk-container-id-2 div.sk-toggleable__content pre {margin: 0.2em;color: black;border-radius: 0.25em;background-color: #f0f8ff;}#sk-container-id-2 input.sk-toggleable__control:checked~div.sk-toggleable__content {max-height: 200px;max-width: 100%;overflow: auto;}#sk-container-id-2 input.sk-toggleable__control:checked~label.sk-toggleable__label-arrow:before {content: \"▾\";}#sk-container-id-2 div.sk-estimator input.sk-toggleable__control:checked~label.sk-toggleable__label {background-color: #d4ebff;}#sk-container-id-2 div.sk-label input.sk-toggleable__control:checked~label.sk-toggleable__label {background-color: #d4ebff;}#sk-container-id-2 input.sk-hidden--visually {border: 0;clip: rect(1px 1px 1px 1px);clip: rect(1px, 1px, 1px, 1px);height: 1px;margin: -1px;overflow: hidden;padding: 0;position: absolute;width: 1px;}#sk-container-id-2 div.sk-estimator {font-family: monospace;background-color: #f0f8ff;border: 1px dotted black;border-radius: 0.25em;box-sizing: border-box;margin-bottom: 0.5em;}#sk-container-id-2 div.sk-estimator:hover {background-color: #d4ebff;}#sk-container-id-2 div.sk-parallel-item::after {content: \"\";width: 100%;border-bottom: 1px solid gray;flex-grow: 1;}#sk-container-id-2 div.sk-label:hover label.sk-toggleable__label {background-color: #d4ebff;}#sk-container-id-2 div.sk-serial::before {content: \"\";position: absolute;border-left: 1px solid gray;box-sizing: border-box;top: 0;bottom: 0;left: 50%;z-index: 0;}#sk-container-id-2 div.sk-serial {display: flex;flex-direction: column;align-items: center;background-color: white;padding-right: 0.2em;padding-left: 0.2em;position: relative;}#sk-container-id-2 div.sk-item {position: relative;z-index: 1;}#sk-container-id-2 div.sk-parallel {display: flex;align-items: stretch;justify-content: center;background-color: white;position: relative;}#sk-container-id-2 div.sk-item::before, #sk-container-id-2 div.sk-parallel-item::before {content: \"\";position: absolute;border-left: 1px solid gray;box-sizing: border-box;top: 0;bottom: 0;left: 50%;z-index: -1;}#sk-container-id-2 div.sk-parallel-item {display: flex;flex-direction: column;z-index: 1;position: relative;background-color: white;}#sk-container-id-2 div.sk-parallel-item:first-child::after {align-self: flex-end;width: 50%;}#sk-container-id-2 div.sk-parallel-item:last-child::after {align-self: flex-start;width: 50%;}#sk-container-id-2 div.sk-parallel-item:only-child::after {width: 0;}#sk-container-id-2 div.sk-dashed-wrapped {border: 1px dashed gray;margin: 0 0.4em 0.5em 0.4em;box-sizing: border-box;padding-bottom: 0.4em;background-color: white;}#sk-container-id-2 div.sk-label label {font-family: monospace;font-weight: bold;display: inline-block;line-height: 1.2em;}#sk-container-id-2 div.sk-label-container {text-align: center;}#sk-container-id-2 div.sk-container {/* jupyter's `normalize.less` sets `[hidden] { display: none; }` but bootstrap.min.css set `[hidden] { display: none !important; }` so we also need the `!important` here to be able to override the default hidden behavior on the sphinx rendered scikit-learn.org. See: https://github.com/scikit-learn/scikit-learn/issues/21755 */display: inline-block !important;position: relative;}#sk-container-id-2 div.sk-text-repr-fallback {display: none;}</style><div id=\"sk-container-id-2\" class=\"sk-top-container\"><div class=\"sk-text-repr-fallback\"><pre>Pipeline(steps=[(&#x27;columntransformer&#x27;,\n",
              "                 ColumnTransformer(remainder=&#x27;passthrough&#x27;,\n",
              "                                   transformers=[(&#x27;minmaxscaler&#x27;,\n",
              "                                                  MinMaxScaler(), [&#x27;VEI&#x27;]),\n",
              "                                                 (&#x27;onehotencoder&#x27;,\n",
              "                                                  OneHotEncoder(handle_unknown=&#x27;ignore&#x27;),\n",
              "                                                  [&#x27;Country&#x27;, &#x27;Volcano Name&#x27;,\n",
              "                                                   &#x27;Type&#x27;])])),\n",
              "                (&#x27;randomforestregressor&#x27;,\n",
              "                 RandomForestRegressor(n_estimators=31))])</pre><b>In a Jupyter environment, please rerun this cell to show the HTML representation or trust the notebook. <br />On GitHub, the HTML representation is unable to render, please try loading this page with nbviewer.org.</b></div><div class=\"sk-container\" hidden><div class=\"sk-item sk-dashed-wrapped\"><div class=\"sk-label-container\"><div class=\"sk-label sk-toggleable\"><input class=\"sk-toggleable__control sk-hidden--visually\" id=\"sk-estimator-id-10\" type=\"checkbox\" ><label for=\"sk-estimator-id-10\" class=\"sk-toggleable__label sk-toggleable__label-arrow\">Pipeline</label><div class=\"sk-toggleable__content\"><pre>Pipeline(steps=[(&#x27;columntransformer&#x27;,\n",
              "                 ColumnTransformer(remainder=&#x27;passthrough&#x27;,\n",
              "                                   transformers=[(&#x27;minmaxscaler&#x27;,\n",
              "                                                  MinMaxScaler(), [&#x27;VEI&#x27;]),\n",
              "                                                 (&#x27;onehotencoder&#x27;,\n",
              "                                                  OneHotEncoder(handle_unknown=&#x27;ignore&#x27;),\n",
              "                                                  [&#x27;Country&#x27;, &#x27;Volcano Name&#x27;,\n",
              "                                                   &#x27;Type&#x27;])])),\n",
              "                (&#x27;randomforestregressor&#x27;,\n",
              "                 RandomForestRegressor(n_estimators=31))])</pre></div></div></div><div class=\"sk-serial\"><div class=\"sk-item sk-dashed-wrapped\"><div class=\"sk-label-container\"><div class=\"sk-label sk-toggleable\"><input class=\"sk-toggleable__control sk-hidden--visually\" id=\"sk-estimator-id-11\" type=\"checkbox\" ><label for=\"sk-estimator-id-11\" class=\"sk-toggleable__label sk-toggleable__label-arrow\">columntransformer: ColumnTransformer</label><div class=\"sk-toggleable__content\"><pre>ColumnTransformer(remainder=&#x27;passthrough&#x27;,\n",
              "                  transformers=[(&#x27;minmaxscaler&#x27;, MinMaxScaler(), [&#x27;VEI&#x27;]),\n",
              "                                (&#x27;onehotencoder&#x27;,\n",
              "                                 OneHotEncoder(handle_unknown=&#x27;ignore&#x27;),\n",
              "                                 [&#x27;Country&#x27;, &#x27;Volcano Name&#x27;, &#x27;Type&#x27;])])</pre></div></div></div><div class=\"sk-parallel\"><div class=\"sk-parallel-item\"><div class=\"sk-item\"><div class=\"sk-label-container\"><div class=\"sk-label sk-toggleable\"><input class=\"sk-toggleable__control sk-hidden--visually\" id=\"sk-estimator-id-12\" type=\"checkbox\" ><label for=\"sk-estimator-id-12\" class=\"sk-toggleable__label sk-toggleable__label-arrow\">minmaxscaler</label><div class=\"sk-toggleable__content\"><pre>[&#x27;VEI&#x27;]</pre></div></div></div><div class=\"sk-serial\"><div class=\"sk-item\"><div class=\"sk-estimator sk-toggleable\"><input class=\"sk-toggleable__control sk-hidden--visually\" id=\"sk-estimator-id-13\" type=\"checkbox\" ><label for=\"sk-estimator-id-13\" class=\"sk-toggleable__label sk-toggleable__label-arrow\">MinMaxScaler</label><div class=\"sk-toggleable__content\"><pre>MinMaxScaler()</pre></div></div></div></div></div></div><div class=\"sk-parallel-item\"><div class=\"sk-item\"><div class=\"sk-label-container\"><div class=\"sk-label sk-toggleable\"><input class=\"sk-toggleable__control sk-hidden--visually\" id=\"sk-estimator-id-14\" type=\"checkbox\" ><label for=\"sk-estimator-id-14\" class=\"sk-toggleable__label sk-toggleable__label-arrow\">onehotencoder</label><div class=\"sk-toggleable__content\"><pre>[&#x27;Country&#x27;, &#x27;Volcano Name&#x27;, &#x27;Type&#x27;]</pre></div></div></div><div class=\"sk-serial\"><div class=\"sk-item\"><div class=\"sk-estimator sk-toggleable\"><input class=\"sk-toggleable__control sk-hidden--visually\" id=\"sk-estimator-id-15\" type=\"checkbox\" ><label for=\"sk-estimator-id-15\" class=\"sk-toggleable__label sk-toggleable__label-arrow\">OneHotEncoder</label><div class=\"sk-toggleable__content\"><pre>OneHotEncoder(handle_unknown=&#x27;ignore&#x27;)</pre></div></div></div></div></div></div><div class=\"sk-parallel-item\"><div class=\"sk-item\"><div class=\"sk-label-container\"><div class=\"sk-label sk-toggleable\"><input class=\"sk-toggleable__control sk-hidden--visually\" id=\"sk-estimator-id-16\" type=\"checkbox\" ><label for=\"sk-estimator-id-16\" class=\"sk-toggleable__label sk-toggleable__label-arrow\">remainder</label><div class=\"sk-toggleable__content\"><pre>[]</pre></div></div></div><div class=\"sk-serial\"><div class=\"sk-item\"><div class=\"sk-estimator sk-toggleable\"><input class=\"sk-toggleable__control sk-hidden--visually\" id=\"sk-estimator-id-17\" type=\"checkbox\" ><label for=\"sk-estimator-id-17\" class=\"sk-toggleable__label sk-toggleable__label-arrow\">passthrough</label><div class=\"sk-toggleable__content\"><pre>passthrough</pre></div></div></div></div></div></div></div></div><div class=\"sk-item\"><div class=\"sk-estimator sk-toggleable\"><input class=\"sk-toggleable__control sk-hidden--visually\" id=\"sk-estimator-id-18\" type=\"checkbox\" ><label for=\"sk-estimator-id-18\" class=\"sk-toggleable__label sk-toggleable__label-arrow\">RandomForestRegressor</label><div class=\"sk-toggleable__content\"><pre>RandomForestRegressor(n_estimators=31)</pre></div></div></div></div></div></div></div>"
            ]
          },
          "metadata": {},
          "execution_count": 17
        }
      ]
    },
    {
      "cell_type": "code",
      "source": [
        "results = cv.cv_results_\n",
        "\n",
        "# plot rsme with each k \n",
        "cv_rmse = pd.Series(\n",
        "            np.sqrt(-results[\"mean_test_score\"]),\n",
        "            index=results[\"param_randomforestregressor__n_estimators\"]\n",
        "            )\n",
        "\n",
        "cv_rmse.plot.line(legend=True, label=\"Validation RMSE\", figsize=(18, 10), title=\"Validation RMSE vs K for MinMax\")\n",
        "cv_rmse.sort_values().head(2)"
      ],
      "metadata": {
        "colab": {
          "base_uri": "https://localhost:8080/",
          "height": 661
        },
        "id": "lUrjwG6Botw7",
        "outputId": "59d26faa-527b-4afd-c85f-d278151e0179"
      },
      "execution_count": 18,
      "outputs": [
        {
          "output_type": "execute_result",
          "data": {
            "text/plain": [
              "31    0.367441\n",
              "16    0.367460\n",
              "dtype: float64"
            ]
          },
          "metadata": {},
          "execution_count": 18
        },
        {
          "output_type": "display_data",
          "data": {
            "text/plain": [
              "<Figure size 1296x720 with 1 Axes>"
            ],
            "image/png": "[encoded data removed]"
          },
          "metadata": {
            "needs_background": "light"
          }
        }
      ]
    },
    {
      "cell_type": "markdown",
      "source": [
        "RSME is very jagged and actually has two minimums at 31 and 16\n",
        "\n",
        "I will actually move forward with 31 for MinMax\n",
        "\n",
        "**My lowest RSME is: 0.367441!**\n",
        "\n",
        "let's try just take a look at the standard scaler graph to see if the RSME plots similarly or is less jagged"
      ],
      "metadata": {
        "id": "IeJF_uK8o9KM"
      }
    },
    {
      "cell_type": "code",
      "source": [
        "#testin standard scaler combo\n",
        "\n",
        "ct = make_column_transformer(\n",
        "    (StandardScaler(), quant_vars),\n",
        "    (OneHotEncoder(handle_unknown=\"ignore\"), cat_vars),\n",
        "    remainder=\"passthrough\")\n",
        "#pipeline\n",
        "pipeline = make_pipeline(\n",
        "    ct,\n",
        "    RandomForestRegressor())\n",
        "\n",
        "cv = GridSearchCV(pipeline,\n",
        "                   param_grid={\n",
        "                       \"randomforestregressor__n_estimators\":range(1,51,5)\n",
        "                       },\n",
        "                   scoring=\"neg_mean_squared_error\",\n",
        "                   cv=10)\n",
        "cv.fit(X_train, y_train)\n",
        "cv.best_estimator_"
      ],
      "metadata": {
        "colab": {
          "base_uri": "https://localhost:8080/",
          "height": 192
        },
        "id": "w6lg6HIewTi-",
        "outputId": "3d001715-ff06-4052-9333-640b2e9b0435"
      },
      "execution_count": 19,
      "outputs": [
        {
          "output_type": "execute_result",
          "data": {
            "text/plain": [
              "Pipeline(steps=[('columntransformer',\n",
              "                 ColumnTransformer(remainder='passthrough',\n",
              "                                   transformers=[('standardscaler',\n",
              "                                                  StandardScaler(), ['VEI']),\n",
              "                                                 ('onehotencoder',\n",
              "                                                  OneHotEncoder(handle_unknown='ignore'),\n",
              "                                                  ['Country', 'Volcano Name',\n",
              "                                                   'Type'])])),\n",
              "                ('randomforestregressor',\n",
              "                 RandomForestRegressor(n_estimators=11))])"
            ],
            "text/html": [
              "<style>#sk-container-id-3 {color: black;background-color: white;}#sk-container-id-3 pre{padding: 0;}#sk-container-id-3 div.sk-toggleable {background-color: white;}#sk-container-id-3 label.sk-toggleable__label {cursor: pointer;display: block;width: 100%;margin-bottom: 0;padding: 0.3em;box-sizing: border-box;text-align: center;}#sk-container-id-3 label.sk-toggleable__label-arrow:before {content: \"▸\";float: left;margin-right: 0.25em;color: #696969;}#sk-container-id-3 label.sk-toggleable__label-arrow:hover:before {color: black;}#sk-container-id-3 div.sk-estimator:hover label.sk-toggleable__label-arrow:before {color: black;}#sk-container-id-3 div.sk-toggleable__content {max-height: 0;max-width: 0;overflow: hidden;text-align: left;background-color: #f0f8ff;}#sk-container-id-3 div.sk-toggleable__content pre {margin: 0.2em;color: black;border-radius: 0.25em;background-color: #f0f8ff;}#sk-container-id-3 input.sk-toggleable__control:checked~div.sk-toggleable__content {max-height: 200px;max-width: 100%;overflow: auto;}#sk-container-id-3 input.sk-toggleable__control:checked~label.sk-toggleable__label-arrow:before {content: \"▾\";}#sk-container-id-3 div.sk-estimator input.sk-toggleable__control:checked~label.sk-toggleable__label {background-color: #d4ebff;}#sk-container-id-3 div.sk-label input.sk-toggleable__control:checked~label.sk-toggleable__label {background-color: #d4ebff;}#sk-container-id-3 input.sk-hidden--visually {border: 0;clip: rect(1px 1px 1px 1px);clip: rect(1px, 1px, 1px, 1px);height: 1px;margin: -1px;overflow: hidden;padding: 0;position: absolute;width: 1px;}#sk-container-id-3 div.sk-estimator {font-family: monospace;background-color: #f0f8ff;border: 1px dotted black;border-radius: 0.25em;box-sizing: border-box;margin-bottom: 0.5em;}#sk-container-id-3 div.sk-estimator:hover {background-color: #d4ebff;}#sk-container-id-3 div.sk-parallel-item::after {content: \"\";width: 100%;border-bottom: 1px solid gray;flex-grow: 1;}#sk-container-id-3 div.sk-label:hover label.sk-toggleable__label {background-color: #d4ebff;}#sk-container-id-3 div.sk-serial::before {content: \"\";position: absolute;border-left: 1px solid gray;box-sizing: border-box;top: 0;bottom: 0;left: 50%;z-index: 0;}#sk-container-id-3 div.sk-serial {display: flex;flex-direction: column;align-items: center;background-color: white;padding-right: 0.2em;padding-left: 0.2em;position: relative;}#sk-container-id-3 div.sk-item {position: relative;z-index: 1;}#sk-container-id-3 div.sk-parallel {display: flex;align-items: stretch;justify-content: center;background-color: white;position: relative;}#sk-container-id-3 div.sk-item::before, #sk-container-id-3 div.sk-parallel-item::before {content: \"\";position: absolute;border-left: 1px solid gray;box-sizing: border-box;top: 0;bottom: 0;left: 50%;z-index: -1;}#sk-container-id-3 div.sk-parallel-item {display: flex;flex-direction: column;z-index: 1;position: relative;background-color: white;}#sk-container-id-3 div.sk-parallel-item:first-child::after {align-self: flex-end;width: 50%;}#sk-container-id-3 div.sk-parallel-item:last-child::after {align-self: flex-start;width: 50%;}#sk-container-id-3 div.sk-parallel-item:only-child::after {width: 0;}#sk-container-id-3 div.sk-dashed-wrapped {border: 1px dashed gray;margin: 0 0.4em 0.5em 0.4em;box-sizing: border-box;padding-bottom: 0.4em;background-color: white;}#sk-container-id-3 div.sk-label label {font-family: monospace;font-weight: bold;display: inline-block;line-height: 1.2em;}#sk-container-id-3 div.sk-label-container {text-align: center;}#sk-container-id-3 div.sk-container {/* jupyter's `normalize.less` sets `[hidden] { display: none; }` but bootstrap.min.css set `[hidden] { display: none !important; }` so we also need the `!important` here to be able to override the default hidden behavior on the sphinx rendered scikit-learn.org. See: https://github.com/scikit-learn/scikit-learn/issues/21755 */display: inline-block !important;position: relative;}#sk-container-id-3 div.sk-text-repr-fallback {display: none;}</style><div id=\"sk-container-id-3\" class=\"sk-top-container\"><div class=\"sk-text-repr-fallback\"><pre>Pipeline(steps=[(&#x27;columntransformer&#x27;,\n",
              "                 ColumnTransformer(remainder=&#x27;passthrough&#x27;,\n",
              "                                   transformers=[(&#x27;standardscaler&#x27;,\n",
              "                                                  StandardScaler(), [&#x27;VEI&#x27;]),\n",
              "                                                 (&#x27;onehotencoder&#x27;,\n",
              "                                                  OneHotEncoder(handle_unknown=&#x27;ignore&#x27;),\n",
              "                                                  [&#x27;Country&#x27;, &#x27;Volcano Name&#x27;,\n",
              "                                                   &#x27;Type&#x27;])])),\n",
              "                (&#x27;randomforestregressor&#x27;,\n",
              "                 RandomForestRegressor(n_estimators=11))])</pre><b>In a Jupyter environment, please rerun this cell to show the HTML representation or trust the notebook. <br />On GitHub, the HTML representation is unable to render, please try loading this page with nbviewer.org.</b></div><div class=\"sk-container\" hidden><div class=\"sk-item sk-dashed-wrapped\"><div class=\"sk-label-container\"><div class=\"sk-label sk-toggleable\"><input class=\"sk-toggleable__control sk-hidden--visually\" id=\"sk-estimator-id-19\" type=\"checkbox\" ><label for=\"sk-estimator-id-19\" class=\"sk-toggleable__label sk-toggleable__label-arrow\">Pipeline</label><div class=\"sk-toggleable__content\"><pre>Pipeline(steps=[(&#x27;columntransformer&#x27;,\n",
              "                 ColumnTransformer(remainder=&#x27;passthrough&#x27;,\n",
              "                                   transformers=[(&#x27;standardscaler&#x27;,\n",
              "                                                  StandardScaler(), [&#x27;VEI&#x27;]),\n",
              "                                                 (&#x27;onehotencoder&#x27;,\n",
              "                                                  OneHotEncoder(handle_unknown=&#x27;ignore&#x27;),\n",
              "                                                  [&#x27;Country&#x27;, &#x27;Volcano Name&#x27;,\n",
              "                                                   &#x27;Type&#x27;])])),\n",
              "                (&#x27;randomforestregressor&#x27;,\n",
              "                 RandomForestRegressor(n_estimators=11))])</pre></div></div></div><div class=\"sk-serial\"><div class=\"sk-item sk-dashed-wrapped\"><div class=\"sk-label-container\"><div class=\"sk-label sk-toggleable\"><input class=\"sk-toggleable__control sk-hidden--visually\" id=\"sk-estimator-id-20\" type=\"checkbox\" ><label for=\"sk-estimator-id-20\" class=\"sk-toggleable__label sk-toggleable__label-arrow\">columntransformer: ColumnTransformer</label><div class=\"sk-toggleable__content\"><pre>ColumnTransformer(remainder=&#x27;passthrough&#x27;,\n",
              "                  transformers=[(&#x27;standardscaler&#x27;, StandardScaler(), [&#x27;VEI&#x27;]),\n",
              "                                (&#x27;onehotencoder&#x27;,\n",
              "                                 OneHotEncoder(handle_unknown=&#x27;ignore&#x27;),\n",
              "                                 [&#x27;Country&#x27;, &#x27;Volcano Name&#x27;, &#x27;Type&#x27;])])</pre></div></div></div><div class=\"sk-parallel\"><div class=\"sk-parallel-item\"><div class=\"sk-item\"><div class=\"sk-label-container\"><div class=\"sk-label sk-toggleable\"><input class=\"sk-toggleable__control sk-hidden--visually\" id=\"sk-estimator-id-21\" type=\"checkbox\" ><label for=\"sk-estimator-id-21\" class=\"sk-toggleable__label sk-toggleable__label-arrow\">standardscaler</label><div class=\"sk-toggleable__content\"><pre>[&#x27;VEI&#x27;]</pre></div></div></div><div class=\"sk-serial\"><div class=\"sk-item\"><div class=\"sk-estimator sk-toggleable\"><input class=\"sk-toggleable__control sk-hidden--visually\" id=\"sk-estimator-id-22\" type=\"checkbox\" ><label for=\"sk-estimator-id-22\" class=\"sk-toggleable__label sk-toggleable__label-arrow\">StandardScaler</label><div class=\"sk-toggleable__content\"><pre>StandardScaler()</pre></div></div></div></div></div></div><div class=\"sk-parallel-item\"><div class=\"sk-item\"><div class=\"sk-label-container\"><div class=\"sk-label sk-toggleable\"><input class=\"sk-toggleable__control sk-hidden--visually\" id=\"sk-estimator-id-23\" type=\"checkbox\" ><label for=\"sk-estimator-id-23\" class=\"sk-toggleable__label sk-toggleable__label-arrow\">onehotencoder</label><div class=\"sk-toggleable__content\"><pre>[&#x27;Country&#x27;, &#x27;Volcano Name&#x27;, &#x27;Type&#x27;]</pre></div></div></div><div class=\"sk-serial\"><div class=\"sk-item\"><div class=\"sk-estimator sk-toggleable\"><input class=\"sk-toggleable__control sk-hidden--visually\" id=\"sk-estimator-id-24\" type=\"checkbox\" ><label for=\"sk-estimator-id-24\" class=\"sk-toggleable__label sk-toggleable__label-arrow\">OneHotEncoder</label><div class=\"sk-toggleable__content\"><pre>OneHotEncoder(handle_unknown=&#x27;ignore&#x27;)</pre></div></div></div></div></div></div><div class=\"sk-parallel-item\"><div class=\"sk-item\"><div class=\"sk-label-container\"><div class=\"sk-label sk-toggleable\"><input class=\"sk-toggleable__control sk-hidden--visually\" id=\"sk-estimator-id-25\" type=\"checkbox\" ><label for=\"sk-estimator-id-25\" class=\"sk-toggleable__label sk-toggleable__label-arrow\">remainder</label><div class=\"sk-toggleable__content\"><pre>[]</pre></div></div></div><div class=\"sk-serial\"><div class=\"sk-item\"><div class=\"sk-estimator sk-toggleable\"><input class=\"sk-toggleable__control sk-hidden--visually\" id=\"sk-estimator-id-26\" type=\"checkbox\" ><label for=\"sk-estimator-id-26\" class=\"sk-toggleable__label sk-toggleable__label-arrow\">passthrough</label><div class=\"sk-toggleable__content\"><pre>passthrough</pre></div></div></div></div></div></div></div></div><div class=\"sk-item\"><div class=\"sk-estimator sk-toggleable\"><input class=\"sk-toggleable__control sk-hidden--visually\" id=\"sk-estimator-id-27\" type=\"checkbox\" ><label for=\"sk-estimator-id-27\" class=\"sk-toggleable__label sk-toggleable__label-arrow\">RandomForestRegressor</label><div class=\"sk-toggleable__content\"><pre>RandomForestRegressor(n_estimators=11)</pre></div></div></div></div></div></div></div>"
            ]
          },
          "metadata": {},
          "execution_count": 19
        }
      ]
    },
    {
      "cell_type": "code",
      "source": [
        "results = cv.cv_results_\n",
        "\n",
        "# plot rsme with each k \n",
        "cv_rmse = pd.Series(\n",
        "            np.sqrt(-results[\"mean_test_score\"]),\n",
        "            index=results[\"param_randomforestregressor__n_estimators\"]\n",
        "            )\n",
        "\n",
        "cv_rmse.plot.line(legend=True, label=\"Validation RMSE\", figsize=(18, 10), title=\"Validation RMSE vs K for StandardScaler\")\n",
        "cv_rmse.sort_values().head(2)"
      ],
      "metadata": {
        "colab": {
          "base_uri": "https://localhost:8080/",
          "height": 661
        },
        "id": "ZNXGVepLwgHV",
        "outputId": "5fd3580d-e0e0-4fae-ca33-064c7e78f360"
      },
      "execution_count": 20,
      "outputs": [
        {
          "output_type": "execute_result",
          "data": {
            "text/plain": [
              "11    0.367299\n",
              "16    0.367402\n",
              "dtype: float64"
            ]
          },
          "metadata": {},
          "execution_count": 20
        },
        {
          "output_type": "display_data",
          "data": {
            "text/plain": [
              "<Figure size 1296x720 with 1 Axes>"
            ],
            "image/png": "[encoded data removed]"
          },
          "metadata": {
            "needs_background": "light"
          }
        }
      ]
    },
    {
      "cell_type": "markdown",
      "source": [
        "again very jagged. And the RSME drastically increases from 21-30(ish) I will move forward with the MinMax combination! "
      ],
      "metadata": {
        "id": "noQR_lZlwjPU"
      }
    },
    {
      "cell_type": "markdown",
      "source": [
        "# Predicting with RandomForest"
      ],
      "metadata": {
        "id": "7-LxO9zyqGSc"
      }
    },
    {
      "cell_type": "code",
      "source": [
        "\n",
        "ct_RF = make_column_transformer(\n",
        "    (MinMaxScaler(), quant_vars),\n",
        "    (OneHotEncoder(handle_unknown=\"ignore\"), cat_vars),\n",
        "    remainder=\"passthrough\")\n",
        "model_RF = make_pipeline(ct,RandomForestRegressor(n_estimators=31))\n",
        "\n",
        "model_RF.fit(X_train, y_train)\n",
        "output_RF = model_RF.predict(test_df)"
      ],
      "metadata": {
        "id": "DF3v0iyypR8w"
      },
      "execution_count": 23,
      "outputs": []
    },
    {
      "cell_type": "markdown",
      "source": [
        "# 4) Descision Tree\n",
        "\n",
        "this will be the final model I test :) "
      ],
      "metadata": {
        "id": "7Dmob8jYsE8-"
      }
    },
    {
      "cell_type": "markdown",
      "source": [
        "4.a) testing scalers, depth, and sample leaf!"
      ],
      "metadata": {
        "id": "mK9-QptWuRhr"
      }
    },
    {
      "cell_type": "code",
      "source": [
        "for scaler in scalers:\n",
        "  #again dropping not necessary but does not hurt\n",
        "  ct = make_column_transformer(\n",
        "    (scaler, quant_vars),\n",
        "    (OneHotEncoder(handle_unknown=\"ignore\"), cat_vars),\n",
        "    remainder=\"passthrough\")\n",
        "  #now apply the preprocessors to the pipeline\n",
        "  pipeline = make_pipeline(ct, DecisionTreeRegressor())\n",
        "  #test each of the metrics with each scaler and possible k\n",
        "  grid_cv = GridSearchCV(\n",
        "  pipeline,\n",
        "  param_grid={\n",
        "  \"decisiontreeregressor__max_depth\":range(1,10),\n",
        "  \"decisiontreeregressor__min_samples_leaf\":range(1,10)},\n",
        "  scoring=\"neg_mean_squared_error\", cv=10)\n",
        "  grid_cv.fit(X_train, y_train)\n",
        "  print(scaler, ':', grid_cv.best_params_, ':', -grid_cv.best_score_)"
      ],
      "metadata": {
        "colab": {
          "base_uri": "https://localhost:8080/"
        },
        "id": "12JFfKbREuWw",
        "outputId": "d1b83178-2648-4ced-e1ee-ab09fb438ca8"
      },
      "execution_count": 24,
      "outputs": [
        {
          "output_type": "stream",
          "name": "stdout",
          "text": [
            "StandardScaler() : {'decisiontreeregressor__max_depth': 2, 'decisiontreeregressor__min_samples_leaf': 2} : 0.13567943362524654\n",
            "MinMaxScaler() : {'decisiontreeregressor__max_depth': 2, 'decisiontreeregressor__min_samples_leaf': 2} : 0.13567943362524654\n",
            "RobustScaler() : {'decisiontreeregressor__max_depth': 2, 'decisiontreeregressor__min_samples_leaf': 3} : 0.13567943362524654\n"
          ]
        }
      ]
    },
    {
      "cell_type": "markdown",
      "source": [
        "Alrighty! I looks like best RSME actually does not vary but the combinations of scalers and parameters do vary\n",
        "\n",
        "My 4th model will be decision tree with scaler=MinMaxScaler max depth=2, and min samples leaf=2\n",
        "\n",
        "Let's save these output!!\n",
        "\n",
        "**Best RSME is 0.13567!**"
      ],
      "metadata": {
        "id": "WRvqxkf5vj1r"
      }
    },
    {
      "cell_type": "markdown",
      "source": [
        "# Predicting with Decision Tree"
      ],
      "metadata": {
        "id": "KcGZwvw4w9rj"
      }
    },
    {
      "cell_type": "code",
      "source": [
        "\n",
        "ct_DT = make_column_transformer(\n",
        "    (MinMaxScaler(), quant_vars),\n",
        "    (OneHotEncoder(handle_unknown=\"ignore\"), cat_vars),\n",
        "    remainder=\"passthrough\")\n",
        "model_DT = make_pipeline(ct,DecisionTreeRegressor(max_depth=2, min_samples_leaf=2))\n",
        "\n",
        "model_DT.fit(X_train, y_train)\n",
        "output_DT = model_DT.predict(test_df)"
      ],
      "metadata": {
        "id": "ygM6F7DMxA0e"
      },
      "execution_count": 25,
      "outputs": []
    },
    {
      "cell_type": "markdown",
      "source": [
        "# Ensemble Models!\n",
        "\n",
        "\n",
        "---\n",
        "\n",
        "Now let's try voting and stacking my models to produce the lowest RSME!"
      ],
      "metadata": {
        "id": "mXroFkXSxTY5"
      }
    },
    {
      "cell_type": "markdown",
      "source": [
        "# 1) Voting"
      ],
      "metadata": {
        "id": "fyo6aiOzxbTs"
      }
    },
    {
      "cell_type": "markdown",
      "source": [
        "With Linear Regression"
      ],
      "metadata": {
        "id": "b0HJRWYYyJMv"
      }
    },
    {
      "cell_type": "code",
      "source": [
        "from sklearn.ensemble import VotingRegressor\n",
        "from sklearn.ensemble import StackingRegressor\n",
        "ensemble_model_vote = VotingRegressor([\n",
        "    (\"kneigh\", model_kneigh), (\"LR\", model_LR),\n",
        "    (\"DecisionT\", model_DT), (\"RanFor\", model_RF)])\n",
        "\n",
        "cv_errs = -cross_val_score(ensemble_model_vote, \n",
        "                            X=X_train,\n",
        "                            y=y_train,\n",
        "                            scoring=\"neg_mean_squared_error\", cv=10)\n",
        "ensemble_vote_rmse = np.sqrt(cv_errs.mean())\n",
        "\n",
        "models = {\"Model Name\": [], \"Validation RSME\": []}\n",
        "\n",
        "models[\"Model Name\"].append(\"EnsembleModel_Voting\")\n",
        "models[\"Validation RSME\"].append(ensemble_vote_rmse)\n"
      ],
      "metadata": {
        "id": "0UNgC2V3xdVa"
      },
      "execution_count": 26,
      "outputs": []
    },
    {
      "cell_type": "markdown",
      "source": [
        "Now the same but without Linear Regression since it had a high RSME :) "
      ],
      "metadata": {
        "id": "AWlqCxq3yv7p"
      }
    },
    {
      "cell_type": "code",
      "source": [
        "ensemble_model_vote = VotingRegressor([\n",
        "    (\"kneigh\", model_kneigh),\n",
        "    (\"DecisionT\", model_DT), (\"RanFor\", model_RF)])\n",
        "\n",
        "cv_errs = -cross_val_score(ensemble_model_vote, \n",
        "                            X=X_train,\n",
        "                            y=y_train,\n",
        "                            scoring=\"neg_mean_squared_error\", cv=10)\n",
        "ensemble_vote_rmse = np.sqrt(cv_errs.mean())\n",
        "\n",
        "models[\"Model Name\"].append(\"EnsembleModel_Voting_no_LR\")\n",
        "models[\"Validation RSME\"].append(ensemble_vote_rmse)\n"
      ],
      "metadata": {
        "id": "fvBsabgKyudO"
      },
      "execution_count": 27,
      "outputs": []
    },
    {
      "cell_type": "markdown",
      "source": [
        "# 2) Stacking"
      ],
      "metadata": {
        "id": "xGRt4QbpzEy_"
      }
    },
    {
      "cell_type": "markdown",
      "source": [
        "with Linear Regression"
      ],
      "metadata": {
        "id": "_X6-VkUnzOQT"
      }
    },
    {
      "cell_type": "code",
      "source": [
        "ensemble_model_stack = StackingRegressor([\n",
        "    (\"kneigh\", model_kneigh), (\"LR\", model_LR),\n",
        "    (\"DecisionT\", model_DT), (\"RanFor\", model_RF)],\n",
        "    final_estimator=DecisionTreeRegressor(max_depth=2, min_samples_leaf=1))\n",
        "\n",
        "cv_errs = -cross_val_score(ensemble_model_stack, \n",
        "                            X=X_train,\n",
        "                            y=y_train,\n",
        "                            scoring=\"neg_mean_squared_error\", cv=10)\n",
        "ensemble_stack_rmse = np.sqrt(cv_errs.mean())\n",
        "\n",
        "models[\"Model Name\"].append(\"EnsembleModel_Stacking\")\n",
        "models[\"Validation RSME\"].append(ensemble_stack_rmse)\n"
      ],
      "metadata": {
        "id": "05c9NpunzIIh"
      },
      "execution_count": 28,
      "outputs": []
    },
    {
      "cell_type": "markdown",
      "source": [
        "without Linear Regression"
      ],
      "metadata": {
        "id": "y83Ilj_LzPrC"
      }
    },
    {
      "cell_type": "code",
      "source": [
        "ensemble_model_stack = StackingRegressor([\n",
        "    (\"kneigh\", model_kneigh),\n",
        "    (\"DecisionT\", model_DT), (\"RanFor\", model_RF)],\n",
        "    final_estimator=DecisionTreeRegressor(max_depth=2, min_samples_leaf=1))\n",
        "\n",
        "cv_errs = -cross_val_score(ensemble_model_stack, \n",
        "                            X=X_train,\n",
        "                            y=y_train,\n",
        "                            scoring=\"neg_mean_squared_error\", cv=10)\n",
        "ensemble_stack_rmse = np.sqrt(cv_errs.mean())\n",
        "\n",
        "models[\"Model Name\"].append(\"EnsembleModel_Stacking_no_LR\")\n",
        "models[\"Validation RSME\"].append(ensemble_stack_rmse)\n"
      ],
      "metadata": {
        "id": "U-W0qkppzNLf"
      },
      "execution_count": 29,
      "outputs": []
    },
    {
      "cell_type": "code",
      "source": [
        "pd.DataFrame(models).sort_values('Validation RSME')"
      ],
      "metadata": {
        "colab": {
          "base_uri": "https://localhost:8080/",
          "height": 175
        },
        "id": "PupWShV10KX-",
        "outputId": "bdd80d6e-9696-411e-d914-622d89a4e641"
      },
      "execution_count": 30,
      "outputs": [
        {
          "output_type": "execute_result",
          "data": {
            "text/plain": [
              "                     Model Name  Validation RSME\n",
              "3  EnsembleModel_Stacking_no_LR     3.652624e-01\n",
              "2        EnsembleModel_Stacking     3.653245e-01\n",
              "1    EnsembleModel_Voting_no_LR     3.665593e-01\n",
              "0          EnsembleModel_Voting     7.151004e+11"
            ],
            "text/html": [
              "\n",
              "  <div id=\"df-0fa04ac5-892f-4a31-9b63-f7fae0afc040\">\n",
              "    <div class=\"colab-df-container\">\n",
              "      <div>\n",
              "<style scoped>\n",
              "    .dataframe tbody tr th:only-of-type {\n",
              "        vertical-align: middle;\n",
              "    }\n",
              "\n",
              "    .dataframe tbody tr th {\n",
              "        vertical-align: top;\n",
              "    }\n",
              "\n",
              "    .dataframe thead th {\n",
              "        text-align: right;\n",
              "    }\n",
              "</style>\n",
              "<table border=\"1\" class=\"dataframe\">\n",
              "  <thead>\n",
              "    <tr style=\"text-align: right;\">\n",
              "      <th></th>\n",
              "      <th>Model Name</th>\n",
              "      <th>Validation RSME</th>\n",
              "    </tr>\n",
              "  </thead>\n",
              "  <tbody>\n",
              "    <tr>\n",
              "      <th>3</th>\n",
              "      <td>EnsembleModel_Stacking_no_LR</td>\n",
              "      <td>3.652624e-01</td>\n",
              "    </tr>\n",
              "    <tr>\n",
              "      <th>2</th>\n",
              "      <td>EnsembleModel_Stacking</td>\n",
              "      <td>3.653245e-01</td>\n",
              "    </tr>\n",
              "    <tr>\n",
              "      <th>1</th>\n",
              "      <td>EnsembleModel_Voting_no_LR</td>\n",
              "      <td>3.665593e-01</td>\n",
              "    </tr>\n",
              "    <tr>\n",
              "      <th>0</th>\n",
              "      <td>EnsembleModel_Voting</td>\n",
              "      <td>7.151004e+11</td>\n",
              "    </tr>\n",
              "  </tbody>\n",
              "</table>\n",
              "</div>\n",
              "      <button class=\"colab-df-convert\" onclick=\"convertToInteractive('df-0fa04ac5-892f-4a31-9b63-f7fae0afc040')\"\n",
              "              title=\"Convert this dataframe to an interactive table.\"\n",
              "              style=\"display:none;\">\n",
              "        \n",
              "  <svg xmlns=\"http://www.w3.org/2000/svg\" height=\"24px\"viewBox=\"0 0 24 24\"\n",
              "       width=\"24px\">\n",
              "    <path d=\"M0 0h24v24H0V0z\" fill=\"none\"/>\n",
              "    <path d=\"M18.56 5.44l.94 2.06.94-2.06 2.06-.94-2.06-.94-.94-2.06-.94 2.06-2.06.94zm-11 1L8.5 8.5l.94-2.06 2.06-.94-2.06-.94L8.5 2.5l-.94 2.06-2.06.94zm10 10l.94 2.06.94-2.06 2.06-.94-2.06-.94-.94-2.06-.94 2.06-2.06.94z\"/><path d=\"M17.41 7.96l-1.37-1.37c-.4-.4-.92-.59-1.43-.59-.52 0-1.04.2-1.43.59L10.3 9.45l-7.72 7.72c-.78.78-.78 2.05 0 2.83L4 21.41c.39.39.9.59 1.41.59.51 0 1.02-.2 1.41-.59l7.78-7.78 2.81-2.81c.8-.78.8-2.07 0-2.86zM5.41 20L4 18.59l7.72-7.72 1.47 1.35L5.41 20z\"/>\n",
              "  </svg>\n",
              "      </button>\n",
              "      \n",
              "  <style>\n",
              "    .colab-df-container {\n",
              "      display:flex;\n",
              "      flex-wrap:wrap;\n",
              "      gap: 12px;\n",
              "    }\n",
              "\n",
              "    .colab-df-convert {\n",
              "      background-color: #E8F0FE;\n",
              "      border: none;\n",
              "      border-radius: 50%;\n",
              "      cursor: pointer;\n",
              "      display: none;\n",
              "      fill: #1967D2;\n",
              "      height: 32px;\n",
              "      padding: 0 0 0 0;\n",
              "      width: 32px;\n",
              "    }\n",
              "\n",
              "    .colab-df-convert:hover {\n",
              "      background-color: #E2EBFA;\n",
              "      box-shadow: 0px 1px 2px rgba(60, 64, 67, 0.3), 0px 1px 3px 1px rgba(60, 64, 67, 0.15);\n",
              "      fill: #174EA6;\n",
              "    }\n",
              "\n",
              "    [theme=dark] .colab-df-convert {\n",
              "      background-color: #3B4455;\n",
              "      fill: #D2E3FC;\n",
              "    }\n",
              "\n",
              "    [theme=dark] .colab-df-convert:hover {\n",
              "      background-color: #434B5C;\n",
              "      box-shadow: 0px 1px 3px 1px rgba(0, 0, 0, 0.15);\n",
              "      filter: drop-shadow(0px 1px 2px rgba(0, 0, 0, 0.3));\n",
              "      fill: #FFFFFF;\n",
              "    }\n",
              "  </style>\n",
              "\n",
              "      <script>\n",
              "        const buttonEl =\n",
              "          document.querySelector('#df-0fa04ac5-892f-4a31-9b63-f7fae0afc040 button.colab-df-convert');\n",
              "        buttonEl.style.display =\n",
              "          google.colab.kernel.accessAllowed ? 'block' : 'none';\n",
              "\n",
              "        async function convertToInteractive(key) {\n",
              "          const element = document.querySelector('#df-0fa04ac5-892f-4a31-9b63-f7fae0afc040');\n",
              "          const dataTable =\n",
              "            await google.colab.kernel.invokeFunction('convertToInteractive',\n",
              "                                                     [key], {});\n",
              "          if (!dataTable) return;\n",
              "\n",
              "          const docLinkHtml = 'Like what you see? Visit the ' +\n",
              "            '<a target=\"_blank\" href=https://colab.research.google.com/notebooks/data_table.ipynb>data table notebook</a>'\n",
              "            + ' to learn more about interactive tables.';\n",
              "          element.innerHTML = '';\n",
              "          dataTable['output_type'] = 'display_data';\n",
              "          await google.colab.output.renderOutput(dataTable, element);\n",
              "          const docLink = document.createElement('div');\n",
              "          docLink.innerHTML = docLinkHtml;\n",
              "          element.appendChild(docLink);\n",
              "        }\n",
              "      </script>\n",
              "    </div>\n",
              "  </div>\n",
              "  "
            ]
          },
          "metadata": {},
          "execution_count": 30
        }
      ]
    },
    {
      "cell_type": "markdown",
      "source": [
        "As we can see my winning model is a stacking of all of my models without LR (linear regression)\n",
        "\n",
        "However:\n",
        "\n",
        "***The associated RSME is 0.36528 ***\n",
        "\n",
        "As a result my winning model is actually the Decision Tree model alone at **RSME of 0.1356**\n",
        "\n",
        "I will predict with both Decision Tree and my winning stacking model however just to be safe"
      ],
      "metadata": {
        "id": "FXXO4n2R0ZRu"
      }
    },
    {
      "cell_type": "markdown",
      "source": [
        "# Final Predictions!"
      ],
      "metadata": {
        "id": "c_dnuwOz0iko"
      }
    },
    {
      "cell_type": "code",
      "source": [
        "stacker = StackingRegressor([\n",
        "    (\"kneigh\", model_kneigh),\n",
        "    (\"DecisionT\", model_DT), (\"RanFor\", model_RF)],\n",
        "    final_estimator=DecisionTreeRegressor(max_depth=2, min_samples_leaf=1))\n",
        "stacker.fit(X_train, y_train)\n",
        "output_stack = stacker.predict(test_df)"
      ],
      "metadata": {
        "id": "k91DAY5U0hlv"
      },
      "execution_count": 32,
      "outputs": []
    },
    {
      "cell_type": "code",
      "source": [
        "historical_eruptions_df_clean['Magnitude - Decision Tree'] = pd.Series(output_DT)"
      ],
      "metadata": {
        "colab": {
          "base_uri": "https://localhost:8080/"
        },
        "id": "uM0-h-Ow2DwY",
        "outputId": "df43eb2e-2c82-454a-bf74-ad02aed18150"
      },
      "execution_count": 33,
      "outputs": [
        {
          "output_type": "stream",
          "name": "stderr",
          "text": [
            "<ipython-input-33-991c541c0651>:1: SettingWithCopyWarning: \n",
            "A value is trying to be set on a copy of a slice from a DataFrame.\n",
            "Try using .loc[row_indexer,col_indexer] = value instead\n",
            "\n",
            "See the caveats in the documentation: https://pandas.pydata.org/pandas-docs/stable/user_guide/indexing.html#returning-a-view-versus-a-copy\n",
            "  historical_eruptions_df_clean['Magnitude - Decision Tree'] = pd.Series(output_DT)\n"
          ]
        }
      ]
    },
    {
      "cell_type": "code",
      "source": [
        "historical_eruptions_df_clean['Magnitude - Stacker'] = pd.Series(output_stack)"
      ],
      "metadata": {
        "colab": {
          "base_uri": "https://localhost:8080/"
        },
        "id": "ZuTei-fb2K0x",
        "outputId": "c7989020-ea4d-467a-967c-544168aa625d"
      },
      "execution_count": 34,
      "outputs": [
        {
          "output_type": "stream",
          "name": "stderr",
          "text": [
            "<ipython-input-34-7a78dec7931c>:1: SettingWithCopyWarning: \n",
            "A value is trying to be set on a copy of a slice from a DataFrame.\n",
            "Try using .loc[row_indexer,col_indexer] = value instead\n",
            "\n",
            "See the caveats in the documentation: https://pandas.pydata.org/pandas-docs/stable/user_guide/indexing.html#returning-a-view-versus-a-copy\n",
            "  historical_eruptions_df_clean['Magnitude - Stacker'] = pd.Series(output_stack)\n"
          ]
        }
      ]
    },
    {
      "cell_type": "markdown",
      "source": [
        "# Visualizing the predictions!"
      ],
      "metadata": {
        "id": "F2TARUSY2ZQW"
      }
    },
    {
      "cell_type": "code",
      "source": [
        "#Final Results!!!\n",
        "historical_eruptions_df_clean"
      ],
      "metadata": {
        "colab": {
          "base_uri": "https://localhost:8080/",
          "height": 771
        },
        "id": "h9Z748Gn2OS7",
        "outputId": "6cf03232-20aa-4c34-e099-df2b4916ba95"
      },
      "execution_count": 35,
      "outputs": [
        {
          "output_type": "execute_result",
          "data": {
            "text/plain": [
              "              Date  VEI    Volcano Name           Country              Type  \\\n",
              "0            1450C    5       Aniakchak     United States           Caldera   \n",
              "1             1452    6           Kuwae           Vanuatu           Caldera   \n",
              "2             1477    5     Bardarbunga           Iceland     Stratovolcano   \n",
              "3            1480D    5      St. Helens     United States     Stratovolcano   \n",
              "4             1540    5      St. Helens     United States     Stratovolcano   \n",
              "5        18-May-80    5      St. Helens     United States     Stratovolcano   \n",
              "6            1580C    6  Billy Mitchell  Papua New Guinea        Ash shield   \n",
              "7             1593    5           Raung         Indonesia     Stratovolcano   \n",
              "8             1600    6    Huaynaputina              Peru  Explosion crater   \n",
              "9     Jan. 4, 1641    6          Parker       Philippines     Stratovolcano   \n",
              "10            1660    6     Long Island  Papua New Guinea   Complex volcano   \n",
              "11            1673    5       Gamkonora         Indonesia     Stratovolcano   \n",
              "12   Oct. 17, 1755    5           Katla           Iceland        Subglacial   \n",
              "13   April 5, 1815    7         Tambora         Indonesia     Stratovolcano   \n",
              "14    Oct. 8, 1822    5      Galunggung         Indonesia     Stratovolcano   \n",
              "15   June 20, 1835    5       Cosiguina         Nicaragua     Stratovolcano   \n",
              "16   Feb. 17, 1854    5       Sheveluch            Russia     Stratovolcano   \n",
              "17  March 29, 1875    5           Askja           Iceland     Stratovolcano   \n",
              "18   Aug. 26, 1883    6        Krakatau         Indonesia           Caldera   \n",
              "19  Oct., 24, 1902    6     Santa Maria         Guatemala     Stratovolcano   \n",
              "20  March 28, 1907    5         Ksudach            Russia            Shield   \n",
              "21    June 6, 1911    6          Katmai     United States     Stratovolcano   \n",
              "22  March 30, 1956    5      Bezymianny            Russia     Stratovolcano   \n",
              "\n",
              "    Magnitude - Decision Tree  Magnitude - Stacker  \n",
              "0                    3.170264             2.773594  \n",
              "1                    6.300000             2.773594  \n",
              "2                    6.300000             2.773594  \n",
              "3                    3.170264             2.773594  \n",
              "4                    3.170264             2.773594  \n",
              "5                    3.170264             2.773594  \n",
              "6                    6.300000             2.773594  \n",
              "7                    6.300000             2.773594  \n",
              "8                    6.300000             2.773594  \n",
              "9                    6.300000             2.773594  \n",
              "10                   6.300000             2.773594  \n",
              "11                   6.300000             2.773594  \n",
              "12                   6.300000             2.773594  \n",
              "13                   6.300000             2.773594  \n",
              "14                   6.300000             2.773594  \n",
              "15                   6.300000             2.773594  \n",
              "16                   6.300000             2.773594  \n",
              "17                   6.300000             2.773594  \n",
              "18                   6.300000             2.773594  \n",
              "19                   6.300000             2.773594  \n",
              "20                   6.300000             2.773594  \n",
              "21                   3.170264             2.773594  \n",
              "22                   6.300000             2.773594  "
            ],
            "text/html": [
              "\n",
              "  <div id=\"df-dad8660b-3d7e-40ec-b90b-92dd91aa7752\">\n",
              "    <div class=\"colab-df-container\">\n",
              "      <div>\n",
              "<style scoped>\n",
              "    .dataframe tbody tr th:only-of-type {\n",
              "        vertical-align: middle;\n",
              "    }\n",
              "\n",
              "    .dataframe tbody tr th {\n",
              "        vertical-align: top;\n",
              "    }\n",
              "\n",
              "    .dataframe thead th {\n",
              "        text-align: right;\n",
              "    }\n",
              "</style>\n",
              "<table border=\"1\" class=\"dataframe\">\n",
              "  <thead>\n",
              "    <tr style=\"text-align: right;\">\n",
              "      <th></th>\n",
              "      <th>Date</th>\n",
              "      <th>VEI</th>\n",
              "      <th>Volcano Name</th>\n",
              "      <th>Country</th>\n",
              "      <th>Type</th>\n",
              "      <th>Magnitude - Decision Tree</th>\n",
              "      <th>Magnitude - Stacker</th>\n",
              "    </tr>\n",
              "  </thead>\n",
              "  <tbody>\n",
              "    <tr>\n",
              "      <th>0</th>\n",
              "      <td>1450C</td>\n",
              "      <td>5</td>\n",
              "      <td>Aniakchak</td>\n",
              "      <td>United States</td>\n",
              "      <td>Caldera</td>\n",
              "      <td>3.170264</td>\n",
              "      <td>2.773594</td>\n",
              "    </tr>\n",
              "    <tr>\n",
              "      <th>1</th>\n",
              "      <td>1452</td>\n",
              "      <td>6</td>\n",
              "      <td>Kuwae</td>\n",
              "      <td>Vanuatu</td>\n",
              "      <td>Caldera</td>\n",
              "      <td>6.300000</td>\n",
              "      <td>2.773594</td>\n",
              "    </tr>\n",
              "    <tr>\n",
              "      <th>2</th>\n",
              "      <td>1477</td>\n",
              "      <td>5</td>\n",
              "      <td>Bardarbunga</td>\n",
              "      <td>Iceland</td>\n",
              "      <td>Stratovolcano</td>\n",
              "      <td>6.300000</td>\n",
              "      <td>2.773594</td>\n",
              "    </tr>\n",
              "    <tr>\n",
              "      <th>3</th>\n",
              "      <td>1480D</td>\n",
              "      <td>5</td>\n",
              "      <td>St. Helens</td>\n",
              "      <td>United States</td>\n",
              "      <td>Stratovolcano</td>\n",
              "      <td>3.170264</td>\n",
              "      <td>2.773594</td>\n",
              "    </tr>\n",
              "    <tr>\n",
              "      <th>4</th>\n",
              "      <td>1540</td>\n",
              "      <td>5</td>\n",
              "      <td>St. Helens</td>\n",
              "      <td>United States</td>\n",
              "      <td>Stratovolcano</td>\n",
              "      <td>3.170264</td>\n",
              "      <td>2.773594</td>\n",
              "    </tr>\n",
              "    <tr>\n",
              "      <th>5</th>\n",
              "      <td>18-May-80</td>\n",
              "      <td>5</td>\n",
              "      <td>St. Helens</td>\n",
              "      <td>United States</td>\n",
              "      <td>Stratovolcano</td>\n",
              "      <td>3.170264</td>\n",
              "      <td>2.773594</td>\n",
              "    </tr>\n",
              "    <tr>\n",
              "      <th>6</th>\n",
              "      <td>1580C</td>\n",
              "      <td>6</td>\n",
              "      <td>Billy Mitchell</td>\n",
              "      <td>Papua New Guinea</td>\n",
              "      <td>Ash shield</td>\n",
              "      <td>6.300000</td>\n",
              "      <td>2.773594</td>\n",
              "    </tr>\n",
              "    <tr>\n",
              "      <th>7</th>\n",
              "      <td>1593</td>\n",
              "      <td>5</td>\n",
              "      <td>Raung</td>\n",
              "      <td>Indonesia</td>\n",
              "      <td>Stratovolcano</td>\n",
              "      <td>6.300000</td>\n",
              "      <td>2.773594</td>\n",
              "    </tr>\n",
              "    <tr>\n",
              "      <th>8</th>\n",
              "      <td>1600</td>\n",
              "      <td>6</td>\n",
              "      <td>Huaynaputina</td>\n",
              "      <td>Peru</td>\n",
              "      <td>Explosion crater</td>\n",
              "      <td>6.300000</td>\n",
              "      <td>2.773594</td>\n",
              "    </tr>\n",
              "    <tr>\n",
              "      <th>9</th>\n",
              "      <td>Jan. 4, 1641</td>\n",
              "      <td>6</td>\n",
              "      <td>Parker</td>\n",
              "      <td>Philippines</td>\n",
              "      <td>Stratovolcano</td>\n",
              "      <td>6.300000</td>\n",
              "      <td>2.773594</td>\n",
              "    </tr>\n",
              "    <tr>\n",
              "      <th>10</th>\n",
              "      <td>1660</td>\n",
              "      <td>6</td>\n",
              "      <td>Long Island</td>\n",
              "      <td>Papua New Guinea</td>\n",
              "      <td>Complex volcano</td>\n",
              "      <td>6.300000</td>\n",
              "      <td>2.773594</td>\n",
              "    </tr>\n",
              "    <tr>\n",
              "      <th>11</th>\n",
              "      <td>1673</td>\n",
              "      <td>5</td>\n",
              "      <td>Gamkonora</td>\n",
              "      <td>Indonesia</td>\n",
              "      <td>Stratovolcano</td>\n",
              "      <td>6.300000</td>\n",
              "      <td>2.773594</td>\n",
              "    </tr>\n",
              "    <tr>\n",
              "      <th>12</th>\n",
              "      <td>Oct. 17, 1755</td>\n",
              "      <td>5</td>\n",
              "      <td>Katla</td>\n",
              "      <td>Iceland</td>\n",
              "      <td>Subglacial</td>\n",
              "      <td>6.300000</td>\n",
              "      <td>2.773594</td>\n",
              "    </tr>\n",
              "    <tr>\n",
              "      <th>13</th>\n",
              "      <td>April 5, 1815</td>\n",
              "      <td>7</td>\n",
              "      <td>Tambora</td>\n",
              "      <td>Indonesia</td>\n",
              "      <td>Stratovolcano</td>\n",
              "      <td>6.300000</td>\n",
              "      <td>2.773594</td>\n",
              "    </tr>\n",
              "    <tr>\n",
              "      <th>14</th>\n",
              "      <td>Oct. 8, 1822</td>\n",
              "      <td>5</td>\n",
              "      <td>Galunggung</td>\n",
              "      <td>Indonesia</td>\n",
              "      <td>Stratovolcano</td>\n",
              "      <td>6.300000</td>\n",
              "      <td>2.773594</td>\n",
              "    </tr>\n",
              "    <tr>\n",
              "      <th>15</th>\n",
              "      <td>June 20, 1835</td>\n",
              "      <td>5</td>\n",
              "      <td>Cosiguina</td>\n",
              "      <td>Nicaragua</td>\n",
              "      <td>Stratovolcano</td>\n",
              "      <td>6.300000</td>\n",
              "      <td>2.773594</td>\n",
              "    </tr>\n",
              "    <tr>\n",
              "      <th>16</th>\n",
              "      <td>Feb. 17, 1854</td>\n",
              "      <td>5</td>\n",
              "      <td>Sheveluch</td>\n",
              "      <td>Russia</td>\n",
              "      <td>Stratovolcano</td>\n",
              "      <td>6.300000</td>\n",
              "      <td>2.773594</td>\n",
              "    </tr>\n",
              "    <tr>\n",
              "      <th>17</th>\n",
              "      <td>March 29, 1875</td>\n",
              "      <td>5</td>\n",
              "      <td>Askja</td>\n",
              "      <td>Iceland</td>\n",
              "      <td>Stratovolcano</td>\n",
              "      <td>6.300000</td>\n",
              "      <td>2.773594</td>\n",
              "    </tr>\n",
              "    <tr>\n",
              "      <th>18</th>\n",
              "      <td>Aug. 26, 1883</td>\n",
              "      <td>6</td>\n",
              "      <td>Krakatau</td>\n",
              "      <td>Indonesia</td>\n",
              "      <td>Caldera</td>\n",
              "      <td>6.300000</td>\n",
              "      <td>2.773594</td>\n",
              "    </tr>\n",
              "    <tr>\n",
              "      <th>19</th>\n",
              "      <td>Oct., 24, 1902</td>\n",
              "      <td>6</td>\n",
              "      <td>Santa Maria</td>\n",
              "      <td>Guatemala</td>\n",
              "      <td>Stratovolcano</td>\n",
              "      <td>6.300000</td>\n",
              "      <td>2.773594</td>\n",
              "    </tr>\n",
              "    <tr>\n",
              "      <th>20</th>\n",
              "      <td>March 28, 1907</td>\n",
              "      <td>5</td>\n",
              "      <td>Ksudach</td>\n",
              "      <td>Russia</td>\n",
              "      <td>Shield</td>\n",
              "      <td>6.300000</td>\n",
              "      <td>2.773594</td>\n",
              "    </tr>\n",
              "    <tr>\n",
              "      <th>21</th>\n",
              "      <td>June 6, 1911</td>\n",
              "      <td>6</td>\n",
              "      <td>Katmai</td>\n",
              "      <td>United States</td>\n",
              "      <td>Stratovolcano</td>\n",
              "      <td>3.170264</td>\n",
              "      <td>2.773594</td>\n",
              "    </tr>\n",
              "    <tr>\n",
              "      <th>22</th>\n",
              "      <td>March 30, 1956</td>\n",
              "      <td>5</td>\n",
              "      <td>Bezymianny</td>\n",
              "      <td>Russia</td>\n",
              "      <td>Stratovolcano</td>\n",
              "      <td>6.300000</td>\n",
              "      <td>2.773594</td>\n",
              "    </tr>\n",
              "  </tbody>\n",
              "</table>\n",
              "</div>\n",
              "      <button class=\"colab-df-convert\" onclick=\"convertToInteractive('df-dad8660b-3d7e-40ec-b90b-92dd91aa7752')\"\n",
              "              title=\"Convert this dataframe to an interactive table.\"\n",
              "              style=\"display:none;\">\n",
              "        \n",
              "  <svg xmlns=\"http://www.w3.org/2000/svg\" height=\"24px\"viewBox=\"0 0 24 24\"\n",
              "       width=\"24px\">\n",
              "    <path d=\"M0 0h24v24H0V0z\" fill=\"none\"/>\n",
              "    <path d=\"M18.56 5.44l.94 2.06.94-2.06 2.06-.94-2.06-.94-.94-2.06-.94 2.06-2.06.94zm-11 1L8.5 8.5l.94-2.06 2.06-.94-2.06-.94L8.5 2.5l-.94 2.06-2.06.94zm10 10l.94 2.06.94-2.06 2.06-.94-2.06-.94-.94-2.06-.94 2.06-2.06.94z\"/><path d=\"M17.41 7.96l-1.37-1.37c-.4-.4-.92-.59-1.43-.59-.52 0-1.04.2-1.43.59L10.3 9.45l-7.72 7.72c-.78.78-.78 2.05 0 2.83L4 21.41c.39.39.9.59 1.41.59.51 0 1.02-.2 1.41-.59l7.78-7.78 2.81-2.81c.8-.78.8-2.07 0-2.86zM5.41 20L4 18.59l7.72-7.72 1.47 1.35L5.41 20z\"/>\n",
              "  </svg>\n",
              "      </button>\n",
              "      \n",
              "  <style>\n",
              "    .colab-df-container {\n",
              "      display:flex;\n",
              "      flex-wrap:wrap;\n",
              "      gap: 12px;\n",
              "    }\n",
              "\n",
              "    .colab-df-convert {\n",
              "      background-color: #E8F0FE;\n",
              "      border: none;\n",
              "      border-radius: 50%;\n",
              "      cursor: pointer;\n",
              "      display: none;\n",
              "      fill: #1967D2;\n",
              "      height: 32px;\n",
              "      padding: 0 0 0 0;\n",
              "      width: 32px;\n",
              "    }\n",
              "\n",
              "    .colab-df-convert:hover {\n",
              "      background-color: #E2EBFA;\n",
              "      box-shadow: 0px 1px 2px rgba(60, 64, 67, 0.3), 0px 1px 3px 1px rgba(60, 64, 67, 0.15);\n",
              "      fill: #174EA6;\n",
              "    }\n",
              "\n",
              "    [theme=dark] .colab-df-convert {\n",
              "      background-color: #3B4455;\n",
              "      fill: #D2E3FC;\n",
              "    }\n",
              "\n",
              "    [theme=dark] .colab-df-convert:hover {\n",
              "      background-color: #434B5C;\n",
              "      box-shadow: 0px 1px 3px 1px rgba(0, 0, 0, 0.15);\n",
              "      filter: drop-shadow(0px 1px 2px rgba(0, 0, 0, 0.3));\n",
              "      fill: #FFFFFF;\n",
              "    }\n",
              "  </style>\n",
              "\n",
              "      <script>\n",
              "        const buttonEl =\n",
              "          document.querySelector('#df-dad8660b-3d7e-40ec-b90b-92dd91aa7752 button.colab-df-convert');\n",
              "        buttonEl.style.display =\n",
              "          google.colab.kernel.accessAllowed ? 'block' : 'none';\n",
              "\n",
              "        async function convertToInteractive(key) {\n",
              "          const element = document.querySelector('#df-dad8660b-3d7e-40ec-b90b-92dd91aa7752');\n",
              "          const dataTable =\n",
              "            await google.colab.kernel.invokeFunction('convertToInteractive',\n",
              "                                                     [key], {});\n",
              "          if (!dataTable) return;\n",
              "\n",
              "          const docLinkHtml = 'Like what you see? Visit the ' +\n",
              "            '<a target=\"_blank\" href=https://colab.research.google.com/notebooks/data_table.ipynb>data table notebook</a>'\n",
              "            + ' to learn more about interactive tables.';\n",
              "          element.innerHTML = '';\n",
              "          dataTable['output_type'] = 'display_data';\n",
              "          await google.colab.output.renderOutput(dataTable, element);\n",
              "          const docLink = document.createElement('div');\n",
              "          docLink.innerHTML = docLinkHtml;\n",
              "          element.appendChild(docLink);\n",
              "        }\n",
              "      </script>\n",
              "    </div>\n",
              "  </div>\n",
              "  "
            ]
          },
          "metadata": {},
          "execution_count": 35
        }
      ]
    },
    {
      "cell_type": "markdown",
      "source": [
        "As we can see, the decision tree and stacking method came up with very different predictions. \n",
        "\n",
        "The Stacker actually predicted ths same magnitude for every eruption which clearly is not a good estimate\n",
        "\n",
        "As the Decision Tree had a much lower RSME I would trust the Decision Tree predicitions more. \n",
        "\n",
        "as we can see it predicts larger earthquake magnitudes overall than the stacking method which makes sense. In fact the stacker predictions do not make much sense as 2.7 magnitude earthquake is quite small compared to eruptions of 5-6 VEI. \n",
        "\n",
        "Let's make a final data set with just the decision tree results!"
      ],
      "metadata": {
        "id": "yS4WLtos2eEG"
      }
    },
    {
      "cell_type": "code",
      "source": [
        "historical_predictions = historical_eruptions_df_clean.iloc[:,[0,1,2,3,4]]\n",
        "historical_predictions['Earthquake Mag'] = historical_eruptions_df_clean['Magnitude - Decision Tree']"
      ],
      "metadata": {
        "colab": {
          "base_uri": "https://localhost:8080/"
        },
        "id": "xafjnTMS3IQU",
        "outputId": "5df4da70-2f21-43a0-d45b-6eb09d963899"
      },
      "execution_count": 36,
      "outputs": [
        {
          "output_type": "stream",
          "name": "stderr",
          "text": [
            "<ipython-input-36-7c6f63b46282>:2: SettingWithCopyWarning: \n",
            "A value is trying to be set on a copy of a slice from a DataFrame.\n",
            "Try using .loc[row_indexer,col_indexer] = value instead\n",
            "\n",
            "See the caveats in the documentation: https://pandas.pydata.org/pandas-docs/stable/user_guide/indexing.html#returning-a-view-versus-a-copy\n",
            "  historical_predictions['Earthquake Mag'] = historical_eruptions_df_clean['Magnitude - Decision Tree']\n"
          ]
        }
      ]
    },
    {
      "cell_type": "code",
      "source": [
        "historical_predictions"
      ],
      "metadata": {
        "colab": {
          "base_uri": "https://localhost:8080/",
          "height": 771
        },
        "id": "nQoQZRpX3mPk",
        "outputId": "3dbbee90-4441-4fa0-d19d-038b7897b011"
      },
      "execution_count": 37,
      "outputs": [
        {
          "output_type": "execute_result",
          "data": {
            "text/plain": [
              "              Date  VEI    Volcano Name           Country              Type  \\\n",
              "0            1450C    5       Aniakchak     United States           Caldera   \n",
              "1             1452    6           Kuwae           Vanuatu           Caldera   \n",
              "2             1477    5     Bardarbunga           Iceland     Stratovolcano   \n",
              "3            1480D    5      St. Helens     United States     Stratovolcano   \n",
              "4             1540    5      St. Helens     United States     Stratovolcano   \n",
              "5        18-May-80    5      St. Helens     United States     Stratovolcano   \n",
              "6            1580C    6  Billy Mitchell  Papua New Guinea        Ash shield   \n",
              "7             1593    5           Raung         Indonesia     Stratovolcano   \n",
              "8             1600    6    Huaynaputina              Peru  Explosion crater   \n",
              "9     Jan. 4, 1641    6          Parker       Philippines     Stratovolcano   \n",
              "10            1660    6     Long Island  Papua New Guinea   Complex volcano   \n",
              "11            1673    5       Gamkonora         Indonesia     Stratovolcano   \n",
              "12   Oct. 17, 1755    5           Katla           Iceland        Subglacial   \n",
              "13   April 5, 1815    7         Tambora         Indonesia     Stratovolcano   \n",
              "14    Oct. 8, 1822    5      Galunggung         Indonesia     Stratovolcano   \n",
              "15   June 20, 1835    5       Cosiguina         Nicaragua     Stratovolcano   \n",
              "16   Feb. 17, 1854    5       Sheveluch            Russia     Stratovolcano   \n",
              "17  March 29, 1875    5           Askja           Iceland     Stratovolcano   \n",
              "18   Aug. 26, 1883    6        Krakatau         Indonesia           Caldera   \n",
              "19  Oct., 24, 1902    6     Santa Maria         Guatemala     Stratovolcano   \n",
              "20  March 28, 1907    5         Ksudach            Russia            Shield   \n",
              "21    June 6, 1911    6          Katmai     United States     Stratovolcano   \n",
              "22  March 30, 1956    5      Bezymianny            Russia     Stratovolcano   \n",
              "\n",
              "    Earthquake Mag  \n",
              "0         3.170264  \n",
              "1         6.300000  \n",
              "2         6.300000  \n",
              "3         3.170264  \n",
              "4         3.170264  \n",
              "5         3.170264  \n",
              "6         6.300000  \n",
              "7         6.300000  \n",
              "8         6.300000  \n",
              "9         6.300000  \n",
              "10        6.300000  \n",
              "11        6.300000  \n",
              "12        6.300000  \n",
              "13        6.300000  \n",
              "14        6.300000  \n",
              "15        6.300000  \n",
              "16        6.300000  \n",
              "17        6.300000  \n",
              "18        6.300000  \n",
              "19        6.300000  \n",
              "20        6.300000  \n",
              "21        3.170264  \n",
              "22        6.300000  "
            ],
            "text/html": [
              "\n",
              "  <div id=\"df-48268a7b-82aa-4efe-a56b-6b343b603f1f\">\n",
              "    <div class=\"colab-df-container\">\n",
              "      <div>\n",
              "<style scoped>\n",
              "    .dataframe tbody tr th:only-of-type {\n",
              "        vertical-align: middle;\n",
              "    }\n",
              "\n",
              "    .dataframe tbody tr th {\n",
              "        vertical-align: top;\n",
              "    }\n",
              "\n",
              "    .dataframe thead th {\n",
              "        text-align: right;\n",
              "    }\n",
              "</style>\n",
              "<table border=\"1\" class=\"dataframe\">\n",
              "  <thead>\n",
              "    <tr style=\"text-align: right;\">\n",
              "      <th></th>\n",
              "      <th>Date</th>\n",
              "      <th>VEI</th>\n",
              "      <th>Volcano Name</th>\n",
              "      <th>Country</th>\n",
              "      <th>Type</th>\n",
              "      <th>Earthquake Mag</th>\n",
              "    </tr>\n",
              "  </thead>\n",
              "  <tbody>\n",
              "    <tr>\n",
              "      <th>0</th>\n",
              "      <td>1450C</td>\n",
              "      <td>5</td>\n",
              "      <td>Aniakchak</td>\n",
              "      <td>United States</td>\n",
              "      <td>Caldera</td>\n",
              "      <td>3.170264</td>\n",
              "    </tr>\n",
              "    <tr>\n",
              "      <th>1</th>\n",
              "      <td>1452</td>\n",
              "      <td>6</td>\n",
              "      <td>Kuwae</td>\n",
              "      <td>Vanuatu</td>\n",
              "      <td>Caldera</td>\n",
              "      <td>6.300000</td>\n",
              "    </tr>\n",
              "    <tr>\n",
              "      <th>2</th>\n",
              "      <td>1477</td>\n",
              "      <td>5</td>\n",
              "      <td>Bardarbunga</td>\n",
              "      <td>Iceland</td>\n",
              "      <td>Stratovolcano</td>\n",
              "      <td>6.300000</td>\n",
              "    </tr>\n",
              "    <tr>\n",
              "      <th>3</th>\n",
              "      <td>1480D</td>\n",
              "      <td>5</td>\n",
              "      <td>St. Helens</td>\n",
              "      <td>United States</td>\n",
              "      <td>Stratovolcano</td>\n",
              "      <td>3.170264</td>\n",
              "    </tr>\n",
              "    <tr>\n",
              "      <th>4</th>\n",
              "      <td>1540</td>\n",
              "      <td>5</td>\n",
              "      <td>St. Helens</td>\n",
              "      <td>United States</td>\n",
              "      <td>Stratovolcano</td>\n",
              "      <td>3.170264</td>\n",
              "    </tr>\n",
              "    <tr>\n",
              "      <th>5</th>\n",
              "      <td>18-May-80</td>\n",
              "      <td>5</td>\n",
              "      <td>St. Helens</td>\n",
              "      <td>United States</td>\n",
              "      <td>Stratovolcano</td>\n",
              "      <td>3.170264</td>\n",
              "    </tr>\n",
              "    <tr>\n",
              "      <th>6</th>\n",
              "      <td>1580C</td>\n",
              "      <td>6</td>\n",
              "      <td>Billy Mitchell</td>\n",
              "      <td>Papua New Guinea</td>\n",
              "      <td>Ash shield</td>\n",
              "      <td>6.300000</td>\n",
              "    </tr>\n",
              "    <tr>\n",
              "      <th>7</th>\n",
              "      <td>1593</td>\n",
              "      <td>5</td>\n",
              "      <td>Raung</td>\n",
              "      <td>Indonesia</td>\n",
              "      <td>Stratovolcano</td>\n",
              "      <td>6.300000</td>\n",
              "    </tr>\n",
              "    <tr>\n",
              "      <th>8</th>\n",
              "      <td>1600</td>\n",
              "      <td>6</td>\n",
              "      <td>Huaynaputina</td>\n",
              "      <td>Peru</td>\n",
              "      <td>Explosion crater</td>\n",
              "      <td>6.300000</td>\n",
              "    </tr>\n",
              "    <tr>\n",
              "      <th>9</th>\n",
              "      <td>Jan. 4, 1641</td>\n",
              "      <td>6</td>\n",
              "      <td>Parker</td>\n",
              "      <td>Philippines</td>\n",
              "      <td>Stratovolcano</td>\n",
              "      <td>6.300000</td>\n",
              "    </tr>\n",
              "    <tr>\n",
              "      <th>10</th>\n",
              "      <td>1660</td>\n",
              "      <td>6</td>\n",
              "      <td>Long Island</td>\n",
              "      <td>Papua New Guinea</td>\n",
              "      <td>Complex volcano</td>\n",
              "      <td>6.300000</td>\n",
              "    </tr>\n",
              "    <tr>\n",
              "      <th>11</th>\n",
              "      <td>1673</td>\n",
              "      <td>5</td>\n",
              "      <td>Gamkonora</td>\n",
              "      <td>Indonesia</td>\n",
              "      <td>Stratovolcano</td>\n",
              "      <td>6.300000</td>\n",
              "    </tr>\n",
              "    <tr>\n",
              "      <th>12</th>\n",
              "      <td>Oct. 17, 1755</td>\n",
              "      <td>5</td>\n",
              "      <td>Katla</td>\n",
              "      <td>Iceland</td>\n",
              "      <td>Subglacial</td>\n",
              "      <td>6.300000</td>\n",
              "    </tr>\n",
              "    <tr>\n",
              "      <th>13</th>\n",
              "      <td>April 5, 1815</td>\n",
              "      <td>7</td>\n",
              "      <td>Tambora</td>\n",
              "      <td>Indonesia</td>\n",
              "      <td>Stratovolcano</td>\n",
              "      <td>6.300000</td>\n",
              "    </tr>\n",
              "    <tr>\n",
              "      <th>14</th>\n",
              "      <td>Oct. 8, 1822</td>\n",
              "      <td>5</td>\n",
              "      <td>Galunggung</td>\n",
              "      <td>Indonesia</td>\n",
              "      <td>Stratovolcano</td>\n",
              "      <td>6.300000</td>\n",
              "    </tr>\n",
              "    <tr>\n",
              "      <th>15</th>\n",
              "      <td>June 20, 1835</td>\n",
              "      <td>5</td>\n",
              "      <td>Cosiguina</td>\n",
              "      <td>Nicaragua</td>\n",
              "      <td>Stratovolcano</td>\n",
              "      <td>6.300000</td>\n",
              "    </tr>\n",
              "    <tr>\n",
              "      <th>16</th>\n",
              "      <td>Feb. 17, 1854</td>\n",
              "      <td>5</td>\n",
              "      <td>Sheveluch</td>\n",
              "      <td>Russia</td>\n",
              "      <td>Stratovolcano</td>\n",
              "      <td>6.300000</td>\n",
              "    </tr>\n",
              "    <tr>\n",
              "      <th>17</th>\n",
              "      <td>March 29, 1875</td>\n",
              "      <td>5</td>\n",
              "      <td>Askja</td>\n",
              "      <td>Iceland</td>\n",
              "      <td>Stratovolcano</td>\n",
              "      <td>6.300000</td>\n",
              "    </tr>\n",
              "    <tr>\n",
              "      <th>18</th>\n",
              "      <td>Aug. 26, 1883</td>\n",
              "      <td>6</td>\n",
              "      <td>Krakatau</td>\n",
              "      <td>Indonesia</td>\n",
              "      <td>Caldera</td>\n",
              "      <td>6.300000</td>\n",
              "    </tr>\n",
              "    <tr>\n",
              "      <th>19</th>\n",
              "      <td>Oct., 24, 1902</td>\n",
              "      <td>6</td>\n",
              "      <td>Santa Maria</td>\n",
              "      <td>Guatemala</td>\n",
              "      <td>Stratovolcano</td>\n",
              "      <td>6.300000</td>\n",
              "    </tr>\n",
              "    <tr>\n",
              "      <th>20</th>\n",
              "      <td>March 28, 1907</td>\n",
              "      <td>5</td>\n",
              "      <td>Ksudach</td>\n",
              "      <td>Russia</td>\n",
              "      <td>Shield</td>\n",
              "      <td>6.300000</td>\n",
              "    </tr>\n",
              "    <tr>\n",
              "      <th>21</th>\n",
              "      <td>June 6, 1911</td>\n",
              "      <td>6</td>\n",
              "      <td>Katmai</td>\n",
              "      <td>United States</td>\n",
              "      <td>Stratovolcano</td>\n",
              "      <td>3.170264</td>\n",
              "    </tr>\n",
              "    <tr>\n",
              "      <th>22</th>\n",
              "      <td>March 30, 1956</td>\n",
              "      <td>5</td>\n",
              "      <td>Bezymianny</td>\n",
              "      <td>Russia</td>\n",
              "      <td>Stratovolcano</td>\n",
              "      <td>6.300000</td>\n",
              "    </tr>\n",
              "  </tbody>\n",
              "</table>\n",
              "</div>\n",
              "      <button class=\"colab-df-convert\" onclick=\"convertToInteractive('df-48268a7b-82aa-4efe-a56b-6b343b603f1f')\"\n",
              "              title=\"Convert this dataframe to an interactive table.\"\n",
              "              style=\"display:none;\">\n",
              "        \n",
              "  <svg xmlns=\"http://www.w3.org/2000/svg\" height=\"24px\"viewBox=\"0 0 24 24\"\n",
              "       width=\"24px\">\n",
              "    <path d=\"M0 0h24v24H0V0z\" fill=\"none\"/>\n",
              "    <path d=\"M18.56 5.44l.94 2.06.94-2.06 2.06-.94-2.06-.94-.94-2.06-.94 2.06-2.06.94zm-11 1L8.5 8.5l.94-2.06 2.06-.94-2.06-.94L8.5 2.5l-.94 2.06-2.06.94zm10 10l.94 2.06.94-2.06 2.06-.94-2.06-.94-.94-2.06-.94 2.06-2.06.94z\"/><path d=\"M17.41 7.96l-1.37-1.37c-.4-.4-.92-.59-1.43-.59-.52 0-1.04.2-1.43.59L10.3 9.45l-7.72 7.72c-.78.78-.78 2.05 0 2.83L4 21.41c.39.39.9.59 1.41.59.51 0 1.02-.2 1.41-.59l7.78-7.78 2.81-2.81c.8-.78.8-2.07 0-2.86zM5.41 20L4 18.59l7.72-7.72 1.47 1.35L5.41 20z\"/>\n",
              "  </svg>\n",
              "      </button>\n",
              "      \n",
              "  <style>\n",
              "    .colab-df-container {\n",
              "      display:flex;\n",
              "      flex-wrap:wrap;\n",
              "      gap: 12px;\n",
              "    }\n",
              "\n",
              "    .colab-df-convert {\n",
              "      background-color: #E8F0FE;\n",
              "      border: none;\n",
              "      border-radius: 50%;\n",
              "      cursor: pointer;\n",
              "      display: none;\n",
              "      fill: #1967D2;\n",
              "      height: 32px;\n",
              "      padding: 0 0 0 0;\n",
              "      width: 32px;\n",
              "    }\n",
              "\n",
              "    .colab-df-convert:hover {\n",
              "      background-color: #E2EBFA;\n",
              "      box-shadow: 0px 1px 2px rgba(60, 64, 67, 0.3), 0px 1px 3px 1px rgba(60, 64, 67, 0.15);\n",
              "      fill: #174EA6;\n",
              "    }\n",
              "\n",
              "    [theme=dark] .colab-df-convert {\n",
              "      background-color: #3B4455;\n",
              "      fill: #D2E3FC;\n",
              "    }\n",
              "\n",
              "    [theme=dark] .colab-df-convert:hover {\n",
              "      background-color: #434B5C;\n",
              "      box-shadow: 0px 1px 3px 1px rgba(0, 0, 0, 0.15);\n",
              "      filter: drop-shadow(0px 1px 2px rgba(0, 0, 0, 0.3));\n",
              "      fill: #FFFFFF;\n",
              "    }\n",
              "  </style>\n",
              "\n",
              "      <script>\n",
              "        const buttonEl =\n",
              "          document.querySelector('#df-48268a7b-82aa-4efe-a56b-6b343b603f1f button.colab-df-convert');\n",
              "        buttonEl.style.display =\n",
              "          google.colab.kernel.accessAllowed ? 'block' : 'none';\n",
              "\n",
              "        async function convertToInteractive(key) {\n",
              "          const element = document.querySelector('#df-48268a7b-82aa-4efe-a56b-6b343b603f1f');\n",
              "          const dataTable =\n",
              "            await google.colab.kernel.invokeFunction('convertToInteractive',\n",
              "                                                     [key], {});\n",
              "          if (!dataTable) return;\n",
              "\n",
              "          const docLinkHtml = 'Like what you see? Visit the ' +\n",
              "            '<a target=\"_blank\" href=https://colab.research.google.com/notebooks/data_table.ipynb>data table notebook</a>'\n",
              "            + ' to learn more about interactive tables.';\n",
              "          element.innerHTML = '';\n",
              "          dataTable['output_type'] = 'display_data';\n",
              "          await google.colab.output.renderOutput(dataTable, element);\n",
              "          const docLink = document.createElement('div');\n",
              "          docLink.innerHTML = docLinkHtml;\n",
              "          element.appendChild(docLink);\n",
              "        }\n",
              "      </script>\n",
              "    </div>\n",
              "  </div>\n",
              "  "
            ]
          },
          "metadata": {},
          "execution_count": 37
        }
      ]
    },
    {
      "cell_type": "markdown",
      "source": [
        "Now we have estimates of earthquakes for ancient eruptions!!! This is so cool!"
      ],
      "metadata": {
        "id": "7v4YdjzY3rjt"
      }
    },
    {
      "cell_type": "markdown",
      "source": [
        "# Final Notes"
      ],
      "metadata": {
        "id": "8kMRB7Mc5Yk9"
      }
    },
    {
      "cell_type": "markdown",
      "source": [
        "Some final notes would include that my source of data was very limited. As we can see with my predictions, the model essentially predicted two different magnitudes and assigned them based on different inputs (either 6.3 or 3.170). \n",
        "\n",
        "I assume this is an artifact of my limited earthquake and eruption data. I collected all USGS data from 1990-2023 which included almost 120,000 earthquakes. I think this project was fun and informative but also showcases the advancements that need to be made in volcanology. There simply is not a ton of seismic data available for volcanoes, and usually it is only for a few famous volcanoes with lots of researchers interested in it (ie at Hawaii or Iceland). \n",
        "\n",
        "I think these estimates give a ball park idea of how seismically active the eruptions were, but more work could be done to produce better estimates! \n",
        "\n",
        "I hope you learned more about volcanoes along the way nonetheless!"
      ],
      "metadata": {
        "id": "5odtLUzH5aNx"
      }
    }
  ]
}